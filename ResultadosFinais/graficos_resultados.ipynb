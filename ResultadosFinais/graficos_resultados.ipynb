{
 "cells": [
  {
   "cell_type": "code",
   "execution_count": 11,
   "id": "9c0d0d44",
   "metadata": {},
   "outputs": [],
   "source": [
    "import os\n",
    "import glob\n",
    "import pandas as pd\n",
    "import matplotlib.pyplot as plt\n",
    "import numpy as np"
   ]
  },
  {
   "cell_type": "code",
   "execution_count": 12,
   "id": "fc74b2ec",
   "metadata": {},
   "outputs": [],
   "source": [
    "algoritmos = [\n",
    "    \"ACO\",\n",
    "    \"ES_SA\",\n",
    "    \"ES_VND\",\n",
    "]"
   ]
  },
  {
   "cell_type": "code",
   "execution_count": null,
   "id": "6ba717b3",
   "metadata": {},
   "outputs": [],
   "source": [
    "# Arquivos que serão usados no TCC\n",
    "\n",
    "instancias = [\n",
    "    \"Bur26a\",\n",
    "    \"Chr12a\",\n",
    "    \"Els19\",\n",
    "    \"Esc16a\",\n",
    "    \"Esc32a\",\n",
    "    \"Had12\",\n",
    "    \"Kra30a\",\n",
    "    \"Lipa20a\",\n",
    "    \"Tai256c\",\n",
    "    \"Wil50\"\n",
    "]\n"
   ]
  },
  {
   "cell_type": "code",
   "execution_count": null,
   "id": "236d89f0",
   "metadata": {},
   "outputs": [],
   "source": [
    "pasta = \".\"\n",
    "\n",
    "arquivos = glob.glob(os.path.join(pasta, \"iteracoes_*.csv\"))\n",
    "\n",
    "dados = {}\n",
    "\n",
    "tempos_alvo = np.arange(0, 601, 120)\n",
    "\n",
    "for arquivo in arquivos:\n",
    "    nome = os.path.basename(arquivo)\n",
    "    partes = nome.replace(\".csv\", \"\").split(\"_\")\n",
    "    instancia = partes[1]\n",
    "    algoritmo = \"_\".join(partes[2:])  # Ex: ES_SA, ACO, ES_VND\n",
    "\n",
    "    df = pd.read_csv(arquivo)\n",
    "    if \"tempo_decorrido\" in df.columns:\n",
    "        tempo_col = \"tempo_decorrido\"\n",
    "    elif \"tempo_decorrido_s\" in df.columns:\n",
    "        tempo_col = \"tempo_decorrido_s\"\n",
    "    else:\n",
    "        raise KeyError(f\"Coluna de tempo não encontrada em {arquivo}\")\n",
    "\n",
    "    df = df.sort_values(tempo_col)\n",
    "\n",
    "    amostrados = []\n",
    "    for t in tempos_alvo:\n",
    "        idx = (df[tempo_col] - t).abs().idxmin()\n",
    "        valor = df.loc[idx, \"melhor_custo\"]\n",
    "        amostrados.append(valor)\n",
    "\n",
    "    while len(amostrados) < len(tempos_alvo):\n",
    "        amostrados.append(amostrados[-1])\n",
    "\n",
    "    df_amostrado = pd.DataFrame({\n",
    "        \"tempo_decorrido\": tempos_alvo,\n",
    "        \"melhor_custo\": amostrados\n",
    "    })\n",
    "\n",
    "    if instancia not in dados:\n",
    "        dados[instancia] = {}\n",
    "    dados[instancia][algoritmo] = df_amostrado\n",
    "\n",
    "for instancia, algoritmos in dados.items():\n",
    "    plt.figure(figsize=(8, 5))\n",
    "    for algoritmo, df in algoritmos.items():\n",
    "        plt.plot(df[\"tempo_decorrido\"], df[\"melhor_custo\"], marker=\"o\", label=algoritmo)\n",
    "    plt.title(f\"Evolução da Solução - {instancia}\")\n",
    "    plt.xlabel(\"Tempo decorrido (s)\")\n",
    "    plt.ylabel(\"Melhor custo\")\n",
    "    plt.legend()\n",
    "    plt.grid(True)\n",
    "    plt.tight_layout()\n",
    "    plt.savefig(f\"evolucao_{instancia}.png\", dpi=300)\n",
    "    plt.close()\n"
   ]
  }
 ],
 "metadata": {
  "kernelspec": {
   "display_name": "Python 3",
   "language": "python",
   "name": "python3"
  },
  "language_info": {
   "codemirror_mode": {
    "name": "ipython",
    "version": 3
   },
   "file_extension": ".py",
   "mimetype": "text/x-python",
   "name": "python",
   "nbconvert_exporter": "python",
   "pygments_lexer": "ipython3",
   "version": "3.11.5"
  }
 },
 "nbformat": 4,
 "nbformat_minor": 5
}
