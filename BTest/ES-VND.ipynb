{
 "cells": [
  {
   "cell_type": "markdown",
   "id": "7f116be3",
   "metadata": {},
   "source": [
    "# Imports and types"
   ]
  },
  {
   "cell_type": "code",
   "execution_count": 22,
   "id": "8fce7934",
   "metadata": {},
   "outputs": [],
   "source": [
    "import random\n",
    "import time\n",
    "import numpy as np\n",
    "import pandas as pd\n",
    "import psutil\n",
    "import os \n",
    "import glob\n",
    "from typing import List, Tuple, Callable"
   ]
  },
  {
   "cell_type": "code",
   "execution_count": 23,
   "id": "f666ea59",
   "metadata": {},
   "outputs": [],
   "source": [
    "def calcular_aptidao(individuo: List[int]) -> int:\n",
    "    return sum(individuo)"
   ]
  },
  {
   "cell_type": "code",
   "execution_count": 24,
   "id": "46acb126",
   "metadata": {},
   "outputs": [],
   "source": [
    "def mutacao(solucao: List[int]) -> List[int]:\n",
    "    nova = solucao[:]\n",
    "    a, b = random.sample(range(len(nova)), 2)\n",
    "    nova[a], nova[b] = nova[b], nova[a]\n",
    "    return nova"
   ]
  },
  {
   "cell_type": "code",
   "execution_count": 25,
   "id": "2205ec2b",
   "metadata": {},
   "outputs": [],
   "source": [
    "def switch_mutation(solucao: List[int]) -> List[int]:\n",
    "    nova = solucao[:]\n",
    "    a, b = random.sample(range(len(nova)), 2)\n",
    "    nova[a], nova[b] = nova[b], nova[a]\n",
    "    return nova"
   ]
  },
  {
   "cell_type": "code",
   "execution_count": 26,
   "id": "fcf6339c",
   "metadata": {},
   "outputs": [],
   "source": [
    "def gerar_vizinho(solucao: List[int]) -> List[int]:\n",
    "    return mutacao(solucao)"
   ]
  },
  {
   "cell_type": "code",
   "execution_count": 27,
   "id": "18177a8f",
   "metadata": {},
   "outputs": [],
   "source": [
    "# M1: Troca de elementos adjacentes\n",
    "def gerar_vizinhanca_1(solucao: List[int]) -> List[List[int]]:\n",
    "    vizinhanca = []\n",
    "    for i in range(len(solucao) - 1):\n",
    "        vizinho = solucao[:]\n",
    "        vizinho[i], vizinho[i+1] = vizinho[i+1], vizinho[i]\n",
    "        vizinhanca.append(vizinho)\n",
    "    return vizinhanca"
   ]
  },
  {
   "cell_type": "code",
   "execution_count": 28,
   "id": "d641eaeb",
   "metadata": {},
   "outputs": [],
   "source": [
    "# M2: Troca de elementos com distância 2\n",
    "def gerar_vizinhanca_2(solucao: List[int]) -> List[List[int]]:\n",
    "    vizinhanca = []\n",
    "    for i in range(len(solucao) - 2):\n",
    "        vizinho = solucao[:]\n",
    "        vizinho[i], vizinho[i+2] = vizinho[i+2], vizinho[i]\n",
    "        vizinhanca.append(vizinho)\n",
    "    return vizinhanca"
   ]
  },
  {
   "cell_type": "code",
   "execution_count": 29,
   "id": "d5ae5a91",
   "metadata": {},
   "outputs": [],
   "source": [
    "# M3: Todas as trocas possíveis entre pares de posições\n",
    "def gerar_vizinhanca_3(solucao: List[int]) -> List[List[int]]:\n",
    "    vizinhanca = []\n",
    "    n = len(solucao)\n",
    "    for i in range(n):\n",
    "        for j in range(i + 1, n):\n",
    "            vizinho = solucao[:]\n",
    "            vizinho[i], vizinho[j] = vizinho[j], vizinho[i]\n",
    "            vizinhanca.append(vizinho)\n",
    "    return vizinhanca"
   ]
  },
  {
   "cell_type": "code",
   "execution_count": 30,
   "id": "1f58b6bf",
   "metadata": {},
   "outputs": [],
   "source": [
    "# M4: Inserção de um elemento em posição anterior\n",
    "def gerar_vizinhanca_4(solucao: List[int]) -> List[List[int]]:\n",
    "    vizinhanca = []\n",
    "    n = len(solucao)\n",
    "    for i in range(n):\n",
    "        for j in range(i):\n",
    "            vizinho = solucao[:]\n",
    "            elem = vizinho.pop(i)\n",
    "            vizinho.insert(j, elem)\n",
    "            vizinhanca.append(vizinho)\n",
    "    return vizinhanca"
   ]
  },
  {
   "cell_type": "code",
   "execution_count": 31,
   "id": "059f1fa1",
   "metadata": {},
   "outputs": [],
   "source": [
    "# M5: Inserção de um elemento em posição posterior\n",
    "def gerar_vizinhanca_5(solucao: List[int]) -> List[List[int]]:\n",
    "    vizinhanca = []\n",
    "    n = len(solucao)\n",
    "    for i in range(n):\n",
    "        for j in range(i+1, n):\n",
    "            vizinho = solucao[:]\n",
    "            elem = vizinho.pop(i)\n",
    "            vizinho.insert(j, elem)\n",
    "            vizinhanca.append(vizinho)\n",
    "    return vizinhanca"
   ]
  },
  {
   "cell_type": "markdown",
   "id": "b33eb5f5",
   "metadata": {},
   "source": [
    "# Revisar 6 e 7"
   ]
  },
  {
   "cell_type": "code",
   "execution_count": 32,
   "id": "1e022512",
   "metadata": {},
   "outputs": [],
   "source": [
    "def gerar_vizinhanca_6(solucao: List[int]) -> List[List[int]]:\n",
    "    vizinhanca = []\n",
    "    n = len(solucao)\n",
    "    # percorre pares consecutivos (u,x) e (v,y)\n",
    "    for i in range(n-1):\n",
    "        for j in range(i+2, n-1):  # começa em i+2 para evitar sobreposição\n",
    "            vizinho = solucao[:]\n",
    "            # troca os pares\n",
    "            vizinho[i], vizinho[i+1], vizinho[j], vizinho[j+1] = (\n",
    "                vizinho[j], vizinho[j+1], vizinho[i], vizinho[i+1]\n",
    "            )\n",
    "            vizinhanca.append(vizinho)\n",
    "    return vizinhanca"
   ]
  },
  {
   "cell_type": "code",
   "execution_count": 33,
   "id": "09f8b02b",
   "metadata": {},
   "outputs": [],
   "source": [
    "def gerar_vizinhanca_7(solucao: List[int]) -> List[List[int]]:\n",
    "    vizinhanca = []\n",
    "    n = len(solucao)\n",
    "    for i in range(n-1):\n",
    "        for j in range(i+2, n-1):  # garante que não sejam adjacentes\n",
    "            vizinho = solucao[:]\n",
    "            u, x, v, y = vizinho[i], vizinho[i+1], vizinho[j], vizinho[j+1]\n",
    "            # substitui (u,x) e (v,y) por (u,v) e (x,y)\n",
    "            vizinho[i], vizinho[i+1], vizinho[j], vizinho[j+1] = u, v, x, y\n",
    "            vizinhanca.append(vizinho)\n",
    "    return vizinhanca"
   ]
  },
  {
   "cell_type": "code",
   "execution_count": 34,
   "id": "00525dc4",
   "metadata": {},
   "outputs": [],
   "source": [
    "# M8: 2-opt (reversão de qualquer sublista)\n",
    "def gerar_vizinhanca_8(solucao: List[int]) -> List[List[int]]:\n",
    "    vizinhanca = []\n",
    "    n = len(solucao)\n",
    "    for i in range(n):\n",
    "        for j in range(i+2, n):  # precisa pelo menos 2 de diferença\n",
    "            vizinho = solucao[:]\n",
    "            vizinho[i:j] = reversed(vizinho[i:j])\n",
    "            vizinhanca.append(vizinho)\n",
    "    return vizinhanca"
   ]
  },
  {
   "cell_type": "code",
   "execution_count": 35,
   "id": "3b8885a5",
   "metadata": {},
   "outputs": [],
   "source": [
    "# M9: Swap de blocos de tamanho 2\n",
    "def gerar_vizinhanca_9(solucao: List[int]) -> List[List[int]]:\n",
    "    vizinhanca = []\n",
    "    n = len(solucao)\n",
    "    for i in range(n-1):\n",
    "        for j in range(i+2, n-1):\n",
    "            vizinho = solucao[:]\n",
    "            vizinho[i:i+2], vizinho[j:j+2] = vizinho[j:j+2], vizinho[i:i+2]\n",
    "            vizinhanca.append(vizinho)\n",
    "    return vizinhanca"
   ]
  },
  {
   "cell_type": "code",
   "execution_count": 36,
   "id": "050548ee",
   "metadata": {},
   "outputs": [],
   "source": [
    "def gerar_array_replicavel(seed: int, tamanho: int) -> list[int]:\n",
    "    random.seed(seed)\n",
    "    vetor = list(range(tamanho))  \n",
    "    random.shuffle(vetor)\n",
    "    return vetor"
   ]
  },
  {
   "cell_type": "code",
   "execution_count": 37,
   "id": "b5be0814",
   "metadata": {},
   "outputs": [],
   "source": [
    "def calcular_aptidao_qap(solucao: List[int],\n",
    "                         matriz_fluxo: pd.DataFrame,\n",
    "                         matriz_distancia: pd.DataFrame) -> int:\n",
    "    n = len(solucao)\n",
    "    custo = 0\n",
    "    for i in range(n):\n",
    "        for j in range(n):\n",
    "            custo += matriz_fluxo[i][j] * matriz_distancia[solucao[i]][solucao[j]]\n",
    "    return -custo   # agora retorna custo negativo"
   ]
  },
  {
   "cell_type": "code",
   "execution_count": 38,
   "id": "55a35323",
   "metadata": {},
   "outputs": [],
   "source": [
    "def calcular_melhor_vizinho(vizinhanca: List[List[int]],\n",
    "                            matriz_fluxo: pd.DataFrame,\n",
    "                            matriz_distancia: pd.DataFrame) -> List[int]:\n",
    "    melhor_vizinho = vizinhanca[0]\n",
    "    for i in range(1, len(vizinhanca)):\n",
    "        if calcular_aptidao_qap(vizinhanca[i], matriz_fluxo, matriz_distancia) > calcular_aptidao_qap(melhor_vizinho, matriz_fluxo, matriz_distancia):\n",
    "            melhor_vizinho = vizinhanca[i]\n",
    "    return melhor_vizinho"
   ]
  },
  {
   "cell_type": "code",
   "execution_count": 39,
   "id": "7036b55a",
   "metadata": {},
   "outputs": [],
   "source": [
    "def VND(solucao: List[int],\n",
    "        matriz_fluxo: pd.DataFrame,\n",
    "        matriz_distancia: pd.DataFrame) -> List[int]:\n",
    "    solucao_atual = solucao[:]\n",
    "    k = 0\n",
    "    funcoes_vizinhanca: List[Callable[[List[int]], List[List[int]]]] = [\n",
    "        gerar_vizinhanca_1, gerar_vizinhanca_2, gerar_vizinhanca_3,\n",
    "        gerar_vizinhanca_4, gerar_vizinhanca_5, gerar_vizinhanca_6,\n",
    "        gerar_vizinhanca_7, gerar_vizinhanca_8, gerar_vizinhanca_9\n",
    "    ]\n",
    "\n",
    "    while k < len(funcoes_vizinhanca):\n",
    "        vizinhos = funcoes_vizinhanca[k](solucao_atual)\n",
    "        aptidao_atual = calcular_aptidao_qap(solucao_atual, matriz_fluxo, matriz_distancia)\n",
    "\n",
    "        for vizinho in vizinhos:\n",
    "            aptidao_vizinho = calcular_aptidao_qap(vizinho, matriz_fluxo, matriz_distancia)\n",
    "            if aptidao_vizinho > aptidao_atual:\n",
    "                solucao_atual = vizinho\n",
    "                k = 0\n",
    "                break\n",
    "        else:\n",
    "            k += 1\n",
    "\n",
    "    return solucao_atual"
   ]
  },
  {
   "cell_type": "code",
   "execution_count": 40,
   "id": "d46c9454",
   "metadata": {},
   "outputs": [],
   "source": [
    "def inicializar_populacao(lambd: int, tamanho: int, seed_base: int = 42) -> List[List[int]]:\n",
    "    populacao = []\n",
    "    for i in range(lambd):\n",
    "        seed = seed_base + i  \n",
    "        individuo = gerar_array_replicavel(seed=seed, tamanho=tamanho)\n",
    "        populacao.append(individuo)\n",
    "    return populacao\n"
   ]
  },
  {
   "cell_type": "code",
   "execution_count": 41,
   "id": "f529c7c4",
   "metadata": {},
   "outputs": [],
   "source": [
    "def ES_VND(mu: int, lambd: int, tempo_max: float,\n",
    "           taxa_mutacao: float, taxa_busca_local: float,\n",
    "           iter_sem_melhora_max: int, n: int,\n",
    "           matriz_fluxo: pd.DataFrame, matriz_distancia: pd.DataFrame,\n",
    "           seed: int = 42,\n",
    "           solucao_inicial: List[int] = None\n",
    "           ) -> Tuple[List[int], float]:\n",
    "\n",
    "    P = inicializar_populacao(mu + lambd, tamanho=n, seed_base=seed)\n",
    "\n",
    "    melhor: List[int] | None = None\n",
    "    melhor_aptidao = -float('inf')\n",
    "    sem_melhora = 0\n",
    "    inicio = time.time()\n",
    "\n",
    "    while (time.time() - inicio) < tempo_max and sem_melhora < iter_sem_melhora_max:\n",
    "        aptidoes = [calcular_aptidao_qap(ind, matriz_fluxo, matriz_distancia) for ind in P]\n",
    "\n",
    "        for ind, apt in zip(P, aptidoes):\n",
    "            if apt > melhor_aptidao:\n",
    "                melhor_aptidao = apt\n",
    "                melhor = ind[:]\n",
    "                sem_melhora = 0\n",
    "        sem_melhora += 1\n",
    "\n",
    "        melhores_indices = sorted(range(len(P)), key=lambda i: aptidoes[i], reverse=True)[:mu]\n",
    "        Q = [P[i][:] for i in melhores_indices]\n",
    "\n",
    "        nova_geracao: List[List[int]] = Q[:]\n",
    "        for q in Q:\n",
    "            for _ in range(lambd // mu):\n",
    "                individuo = q[:]\n",
    "                if random.random() < taxa_mutacao:\n",
    "                    individuo = switch_mutation(individuo)  \n",
    "                if random.random() < taxa_busca_local:\n",
    "                    individuo = VND(individuo, matriz_fluxo, matriz_distancia)\n",
    "                nova_geracao.append(individuo)\n",
    "\n",
    "        P = nova_geracao\n",
    "        \n",
    "    return (melhor if melhor is not None else solucao_inicial,\n",
    "            melhor_aptidao if melhor is not None else calcular_aptidao_qap(solucao_inicial, matriz_fluxo, matriz_distancia))\n"
   ]
  },
  {
   "cell_type": "code",
   "execution_count": 42,
   "id": "ad3c3430",
   "metadata": {},
   "outputs": [],
   "source": [
    "def ler_qap_com_n(caminho: str) -> Tuple[int, pd.DataFrame, pd.DataFrame]:\n",
    "    with open(caminho, \"r\") as f:\n",
    "        dados = list(map(int, f.read().split()))\n",
    "\n",
    "    n = dados[0]\n",
    "    valores = dados[1:]\n",
    "\n",
    "    total_esperado = 2 * n * n\n",
    "    if len(valores) != total_esperado:\n",
    "        raise ValueError(f\"Esperado {total_esperado} valores, mas encontrado {len(valores)}.\")\n",
    "\n",
    "    flow_flat = valores[:n * n]\n",
    "    dist_flat = valores[n * n:]\n",
    "\n",
    "    flow_df = pd.DataFrame([flow_flat[i * n:(i + 1) * n] for i in range(n)])\n",
    "    dist_df = pd.DataFrame([dist_flat[i * n:(i + 1) * n] for i in range(n)])\n",
    "\n",
    "    return n, flow_df, dist_df"
   ]
  },
  {
   "cell_type": "code",
   "execution_count": null,
   "id": "d8deec6d",
   "metadata": {},
   "outputs": [
    {
     "name": "stdout",
     "output_type": "stream",
     "text": [
      "[Kra32 copy] Seed 42 finalizada. Custo: 91220 | Memória usada: 118.3 MB\n",
      "[Kra32 copy] Seed 43 finalizada. Custo: 127100 | Memória usada: 118.3 MB\n",
      "[Kra32 copy] Seed 44 finalizada. Custo: 127100 | Memória usada: 118.3 MB\n",
      "[Kra32 copy] Seed 45 finalizada. Custo: 89920 | Memória usada: 118.3 MB\n",
      "[Kra32 copy] Seed 46 finalizada. Custo: 127100 | Memória usada: 118.3 MB\n",
      "[Kra32 copy] Seed 47 finalizada. Custo: 128520 | Memória usada: 118.3 MB\n",
      "[Kra32 copy] Seed 48 finalizada. Custo: 91580 | Memória usada: 118.3 MB\n"
     ]
    }
   ],
   "source": [
    "if __name__ == \"__main__\":\n",
    "    arquivos = glob.glob(\"*.txt\")\n",
    "\n",
    "    for arquivo in arquivos:\n",
    "        nome_instancia = os.path.splitext(os.path.basename(arquivo))[0]\n",
    "\n",
    "        n, flow_df, dist_df = ler_qap_com_n(arquivo)\n",
    "        flow = flow_df.values.tolist()\n",
    "        dist = dist_df.values.tolist()\n",
    "        matriz_fluxo = np.array(flow)\n",
    "        matriz_distancia = np.array(dist)\n",
    "\n",
    "        resultados = []  \n",
    "\n",
    "        for seed in range(42, 52):\n",
    "            random.seed(seed)\n",
    "\n",
    "            process = psutil.Process(os.getpid())\n",
    "            tempo_inicio = time.time()\n",
    "\n",
    "            solucao_inicial = gerar_array_replicavel(seed=seed, tamanho=n)\n",
    "\n",
    "            parametros = {\n",
    "                \"mu\": random.randint(5, 10),\n",
    "                \"lambd\": random.randint(30, 100),\n",
    "                \"tempo_max\": random.randint(3, 10) * 60,\n",
    "                \"taxa_mutacao\": random.uniform(0.4, 0.7),\n",
    "                \"taxa_busca_local\": random.uniform(0.4, 0.7),\n",
    "                \"iter_sem_melhora_max\": random.randint(5, 10),\n",
    "                \"matriz_fluxo\": matriz_fluxo,\n",
    "                \"matriz_distancia\": matriz_distancia,\n",
    "                \"solucao_inicial\": solucao_inicial,\n",
    "                \"n\": n,\n",
    "            }\n",
    "\n",
    "            melhor_solucao, melhor_valor = ES_VND(**parametros)\n",
    "\n",
    "            tempo_fim = time.time()\n",
    "\n",
    "            try:\n",
    "                memoria_usada = process.memory_info().peak_wset / (1024 * 1024)  \n",
    "            except AttributeError:\n",
    "                memoria_usada = process.memory_info().rss / (1024 * 1024)  \n",
    "\n",
    "            resultados.append({\n",
    "                \"instancia\": nome_instancia,\n",
    "                \"seed\": seed,\n",
    "                \"melhor_solucao\": melhor_solucao,\n",
    "                \"custo\": -melhor_valor,\n",
    "                \"tempo_execucao_segundos\": round(tempo_fim - tempo_inicio, 2),\n",
    "                \"memoria_usada_MB\": round(memoria_usada, 2)\n",
    "            })\n",
    "\n",
    "            print(f\"[{nome_instancia}] Seed {seed} finalizada. Custo: {(-melhor_valor)} | Memória usada: {round(memoria_usada, 2)} MB\")\n",
    "\n",
    "        df_resultados = pd.DataFrame(resultados)\n",
    "        df_resultados.to_csv(f\"resultados_{nome_instancia}.csv\", index=False)\n",
    "\n",
    "        print(f\"\\nResultados da instância {nome_instancia} salvos em resultados_{nome_instancia}.csv\")"
   ]
  }
 ],
 "metadata": {
  "kernelspec": {
   "display_name": "Python 3",
   "language": "python",
   "name": "python3"
  },
  "language_info": {
   "codemirror_mode": {
    "name": "ipython",
    "version": 3
   },
   "file_extension": ".py",
   "mimetype": "text/x-python",
   "name": "python",
   "nbconvert_exporter": "python",
   "pygments_lexer": "ipython3",
   "version": "3.11.5"
  }
 },
 "nbformat": 4,
 "nbformat_minor": 5
}
