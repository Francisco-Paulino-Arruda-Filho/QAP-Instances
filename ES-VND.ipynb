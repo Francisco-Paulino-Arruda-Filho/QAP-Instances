{
 "cells": [
  {
   "cell_type": "markdown",
   "id": "7f116be3",
   "metadata": {},
   "source": [
    "# Imports and types"
   ]
  },
  {
   "cell_type": "code",
   "execution_count": 1,
   "id": "8fce7934",
   "metadata": {},
   "outputs": [],
   "source": [
    "import random\n",
    "import time\n",
    "import numpy as np\n",
    "import pandas as pd\n",
    "import psutil\n",
    "import os \n",
    "import glob"
   ]
  },
  {
   "cell_type": "markdown",
   "id": "5c8bc512",
   "metadata": {},
   "source": []
  },
  {
   "cell_type": "code",
   "execution_count": 2,
   "id": "f666ea59",
   "metadata": {},
   "outputs": [],
   "source": [
    "def calcular_aptidao(individuo):\n",
    "    return sum(individuo)"
   ]
  },
  {
   "cell_type": "code",
   "execution_count": 3,
   "id": "46acb126",
   "metadata": {},
   "outputs": [],
   "source": [
    "def mutacao(solucao):\n",
    "    nova = solucao[:]\n",
    "    a, b = random.sample(range(len(nova)), 2)\n",
    "    nova[a], nova[b] = nova[b], nova[a]\n",
    "    return nova"
   ]
  },
  {
   "cell_type": "code",
   "execution_count": 4,
   "id": "fcf6339c",
   "metadata": {},
   "outputs": [],
   "source": [
    "# gerar_vizinhanca\n",
    "def gerar_vizinho(solucao):\n",
    "    return mutacao(solucao)"
   ]
  },
  {
   "cell_type": "code",
   "execution_count": 5,
   "id": "d641eaeb",
   "metadata": {},
   "outputs": [
    {
     "data": {
      "text/plain": [
       "[[2, 1, 3, 4], [1, 3, 2, 4], [1, 2, 4, 3]]"
      ]
     },
     "execution_count": 5,
     "metadata": {},
     "output_type": "execute_result"
    }
   ],
   "source": [
    "def gerar_vizinhanca_1(solucao):\n",
    "    vizinhanca = []\n",
    "    for i in range(len(solucao) - 1):\n",
    "        vizinho = solucao[:]\n",
    "        vizinho[i], vizinho[i+1] = vizinho[i+1], vizinho[i]\n",
    "        vizinhanca.append(vizinho)\n",
    "    return vizinhanca\n",
    "\n",
    "gerar_vizinhanca_1([1, 2, 3, 4])"
   ]
  },
  {
   "cell_type": "code",
   "execution_count": 6,
   "id": "d5ae5a91",
   "metadata": {},
   "outputs": [
    {
     "data": {
      "text/plain": [
       "[[2, 1, 3, 4],\n",
       " [3, 2, 1, 4],\n",
       " [4, 2, 3, 1],\n",
       " [1, 3, 2, 4],\n",
       " [1, 4, 3, 2],\n",
       " [1, 2, 4, 3]]"
      ]
     },
     "execution_count": 6,
     "metadata": {},
     "output_type": "execute_result"
    }
   ],
   "source": [
    "def gerar_vizinhanca_3(solucao):\n",
    "    vizinhanca = []\n",
    "    n = len(solucao)\n",
    "    for i in range(n):\n",
    "        for j in range(i + 1, n):\n",
    "            vizinho = solucao[:]\n",
    "            vizinho[i], vizinho[j] = vizinho[j], vizinho[i]\n",
    "            vizinhanca.append(vizinho)\n",
    "    return vizinhanca\n",
    "\n",
    "gerar_vizinhanca_3([1, 2, 3, 4])"
   ]
  },
  {
   "cell_type": "code",
   "execution_count": 7,
   "id": "1f58b6bf",
   "metadata": {},
   "outputs": [
    {
     "data": {
      "text/plain": [
       "[[3, 2, 1, 4], [1, 4, 3, 2]]"
      ]
     },
     "execution_count": 7,
     "metadata": {},
     "output_type": "execute_result"
    }
   ],
   "source": [
    "def gerar_vizinhanca_2(solucao):\n",
    "    vizinhanca = []\n",
    "    for i in range(len(solucao) - 2):\n",
    "        vizinho = solucao[:]\n",
    "        vizinho[i], vizinho[i+2] = vizinho[i+2], vizinho[i]\n",
    "        vizinhanca.append(vizinho)\n",
    "    return vizinhanca\n",
    "\n",
    "gerar_vizinhanca_2([1, 2, 3, 4])"
   ]
  },
  {
   "cell_type": "code",
   "execution_count": 8,
   "id": "050548ee",
   "metadata": {},
   "outputs": [],
   "source": [
    "def gerar_array_replicavel(seed: int, tamanho: int) -> list[int]:\n",
    "    random.seed(seed)\n",
    "    vetor = list(range(tamanho))  \n",
    "    random.shuffle(vetor)\n",
    "    return vetor"
   ]
  },
  {
   "cell_type": "code",
   "execution_count": 9,
   "id": "b5be0814",
   "metadata": {},
   "outputs": [],
   "source": [
    "def calcular_aptidao_qap(solucao, matriz_fluxo, matriz_distancia):\n",
    "    n = len(solucao)\n",
    "    custo = 0\n",
    "    for i in range(n):\n",
    "        for j in range(n):\n",
    "            custo += matriz_fluxo[i][j] * matriz_distancia[solucao[i]][solucao[j]]\n",
    "    return custo"
   ]
  },
  {
   "cell_type": "code",
   "execution_count": 10,
   "id": "55a35323",
   "metadata": {},
   "outputs": [],
   "source": [
    "def calcular_melhor_vizinho(vizinhanca, matriz_fluxo, matriz_distancia):\n",
    "    melhor_vizinho = vizinhanca[0]\n",
    "    for i in range(1, len(vizinhanca)):\n",
    "        if calcular_aptidao_qap(vizinhanca[i], matriz_fluxo, matriz_distancia) < calcular_aptidao_qap(melhor_vizinho, matriz_fluxo, matriz_distancia):\n",
    "            melhor_vizinho = vizinhanca[i]\n",
    "    return melhor_vizinho"
   ]
  },
  {
   "cell_type": "code",
   "execution_count": 11,
   "id": "7036b55a",
   "metadata": {},
   "outputs": [],
   "source": [
    "def VND(solucao, matriz_fluxo, matriz_distancia):\n",
    "    solucao_atual = solucao[:]\n",
    "    k = 0\n",
    "    funcoes_de_vizinhanca = [gerar_vizinhanca_1, gerar_vizinhanca_2, gerar_vizinhanca_3]\n",
    "    kmax = len(funcoes_de_vizinhanca)\n",
    "    while k < kmax:\n",
    "        vizinhanca = funcoes_de_vizinhanca[k](solucao_atual)\n",
    "        melhor_vizinho = calcular_melhor_vizinho(vizinhanca, matriz_fluxo, matriz_distancia)\n",
    "        if calcular_aptidao_qap(melhor_vizinho, matriz_fluxo, matriz_distancia) < calcular_aptidao_qap(solucao_atual, matriz_fluxo, matriz_distancia):\n",
    "            solucao_atual = melhor_vizinho\n",
    "            k = 0\n",
    "        else:\n",
    "            k += 1\n",
    "    return solucao_atual"
   ]
  },
  {
   "cell_type": "code",
   "execution_count": 12,
   "id": "d46c9454",
   "metadata": {},
   "outputs": [],
   "source": [
    "def inicializar_populacao(lambd, solucao_inicial):\n",
    "    return [mutacao(solucao_inicial) for _ in range(lambd)]"
   ]
  },
  {
   "cell_type": "code",
   "execution_count": 13,
   "id": "f529c7c4",
   "metadata": {},
   "outputs": [],
   "source": [
    "def ES_VND(mu, lambd, tempo_max, taxa_mutacao, taxa_busca_local, iter_sem_melhora_max,\n",
    "           solucao_inicial, matriz_fluxo, matriz_distancia):\n",
    "\n",
    "    # Inicializa população\n",
    "    P = inicializar_populacao(lambd, solucao_inicial)\n",
    "    melhor = None\n",
    "    melhor_aptidao = float('inf')\n",
    "    sem_melhora = 0\n",
    "\n",
    "    inicio = time.time()\n",
    "\n",
    "    while (time.time() - inicio) < tempo_max and sem_melhora < iter_sem_melhora_max:\n",
    "        aptidoes = [calcular_aptidao_qap(ind, matriz_fluxo, matriz_distancia) for ind in P]\n",
    "\n",
    "        for ind, apt in zip(P, aptidoes):\n",
    "            if apt < melhor_aptidao:\n",
    "                melhor_aptidao = apt\n",
    "                melhor = ind[:]\n",
    "                sem_melhora = 0  \n",
    "        sem_melhora += 1 \n",
    "\n",
    "        melhores_indices = sorted(range(len(P)), key=lambda i: aptidoes[i])[:mu]\n",
    "        Q = [P[i][:] for i in melhores_indices]\n",
    "\n",
    "        nova_geracao = Q[:]\n",
    "        for q in Q:\n",
    "            for _ in range(lambd // mu):\n",
    "                individuo = q[:]\n",
    "                if random.random() < taxa_mutacao:\n",
    "                    individuo = mutacao(individuo) \n",
    "                if random.random() < taxa_busca_local:\n",
    "                    individuo = VND(individuo, matriz_fluxo, matriz_distancia) \n",
    "                nova_geracao.append(individuo)\n",
    "\n",
    "        P = nova_geracao  \n",
    "\n",
    "    return melhor, melhor_aptidao"
   ]
  },
  {
   "cell_type": "code",
   "execution_count": 14,
   "id": "ad3c3430",
   "metadata": {},
   "outputs": [],
   "source": [
    "def ler_qap_com_n(caminho: str):\n",
    "    with open(caminho, \"r\") as f:\n",
    "        dados = list(map(int, f.read().split()))\n",
    "        \n",
    "    n = dados[0]\n",
    "    valores = dados[1:]  \n",
    "\n",
    "    total_esperado = 2 * n * n\n",
    "    if len(valores) != total_esperado:\n",
    "        raise ValueError(f\"Esperado {total_esperado} valores, mas encontrado {len(valores)}.\")\n",
    "\n",
    "    flow_flat = valores[:n * n]\n",
    "    dist_flat = valores[n * n:]\n",
    "\n",
    "    flow_df = pd.DataFrame([flow_flat[i * n:(i + 1) * n] for i in range(n)])\n",
    "    dist_df = pd.DataFrame([dist_flat[i * n:(i + 1) * n] for i in range(n)])\n",
    "\n",
    "    return n, flow_df, dist_df"
   ]
  },
  {
   "cell_type": "code",
   "execution_count": 15,
   "id": "d8deec6d",
   "metadata": {},
   "outputs": [
    {
     "ename": "KeyboardInterrupt",
     "evalue": "",
     "output_type": "error",
     "traceback": [
      "\u001b[1;31m---------------------------------------------------------------------------\u001b[0m",
      "\u001b[1;31mKeyboardInterrupt\u001b[0m                         Traceback (most recent call last)",
      "Cell \u001b[1;32mIn[15], line 37\u001b[0m\n\u001b[0;32m     23\u001b[0m solucao_inicial \u001b[38;5;241m=\u001b[39m gerar_array_replicavel(seed\u001b[38;5;241m=\u001b[39mseed, tamanho\u001b[38;5;241m=\u001b[39mn)\n\u001b[0;32m     25\u001b[0m parametros \u001b[38;5;241m=\u001b[39m {\n\u001b[0;32m     26\u001b[0m     \u001b[38;5;124m\"\u001b[39m\u001b[38;5;124mmu\u001b[39m\u001b[38;5;124m\"\u001b[39m: random\u001b[38;5;241m.\u001b[39mrandint(\u001b[38;5;241m5\u001b[39m, \u001b[38;5;241m10\u001b[39m),\n\u001b[0;32m     27\u001b[0m     \u001b[38;5;124m\"\u001b[39m\u001b[38;5;124mlambd\u001b[39m\u001b[38;5;124m\"\u001b[39m: random\u001b[38;5;241m.\u001b[39mrandint(\u001b[38;5;241m30\u001b[39m, \u001b[38;5;241m100\u001b[39m),\n\u001b[1;32m   (...)\u001b[0m\n\u001b[0;32m     34\u001b[0m     \u001b[38;5;124m\"\u001b[39m\u001b[38;5;124mmatriz_distancia\u001b[39m\u001b[38;5;124m\"\u001b[39m: matriz_distancia\n\u001b[0;32m     35\u001b[0m }\n\u001b[1;32m---> 37\u001b[0m melhor_solucao, melhor_valor \u001b[38;5;241m=\u001b[39m \u001b[43mES_VND\u001b[49m\u001b[43m(\u001b[49m\u001b[38;5;241;43m*\u001b[39;49m\u001b[38;5;241;43m*\u001b[39;49m\u001b[43mparametros\u001b[49m\u001b[43m)\u001b[49m\n\u001b[0;32m     39\u001b[0m tempo_fim \u001b[38;5;241m=\u001b[39m time\u001b[38;5;241m.\u001b[39mtime()\n\u001b[0;32m     40\u001b[0m memoria_final \u001b[38;5;241m=\u001b[39m process\u001b[38;5;241m.\u001b[39mmemory_info()\u001b[38;5;241m.\u001b[39mrss \u001b[38;5;241m/\u001b[39m (\u001b[38;5;241m1024\u001b[39m \u001b[38;5;241m*\u001b[39m \u001b[38;5;241m1024\u001b[39m)  \u001b[38;5;66;03m# MB\u001b[39;00m\n",
      "Cell \u001b[1;32mIn[13], line 32\u001b[0m, in \u001b[0;36mES_VND\u001b[1;34m(mu, lambd, tempo_max, taxa_mutacao, taxa_busca_local, iter_sem_melhora_max, solucao_inicial, matriz_fluxo, matriz_distancia)\u001b[0m\n\u001b[0;32m     30\u001b[0m             individuo \u001b[38;5;241m=\u001b[39m mutacao(individuo) \n\u001b[0;32m     31\u001b[0m         \u001b[38;5;28;01mif\u001b[39;00m random\u001b[38;5;241m.\u001b[39mrandom() \u001b[38;5;241m<\u001b[39m taxa_busca_local:\n\u001b[1;32m---> 32\u001b[0m             individuo \u001b[38;5;241m=\u001b[39m \u001b[43mVND\u001b[49m\u001b[43m(\u001b[49m\u001b[43mindividuo\u001b[49m\u001b[43m,\u001b[49m\u001b[43m \u001b[49m\u001b[43mmatriz_fluxo\u001b[49m\u001b[43m,\u001b[49m\u001b[43m \u001b[49m\u001b[43mmatriz_distancia\u001b[49m\u001b[43m)\u001b[49m \n\u001b[0;32m     33\u001b[0m         nova_geracao\u001b[38;5;241m.\u001b[39mappend(individuo)\n\u001b[0;32m     35\u001b[0m P \u001b[38;5;241m=\u001b[39m nova_geracao  \n",
      "Cell \u001b[1;32mIn[11], line 8\u001b[0m, in \u001b[0;36mVND\u001b[1;34m(solucao, matriz_fluxo, matriz_distancia)\u001b[0m\n\u001b[0;32m      6\u001b[0m \u001b[38;5;28;01mwhile\u001b[39;00m k \u001b[38;5;241m<\u001b[39m kmax:\n\u001b[0;32m      7\u001b[0m     vizinhanca \u001b[38;5;241m=\u001b[39m funcoes_de_vizinhanca[k](solucao_atual)\n\u001b[1;32m----> 8\u001b[0m     melhor_vizinho \u001b[38;5;241m=\u001b[39m \u001b[43mcalcular_melhor_vizinho\u001b[49m\u001b[43m(\u001b[49m\u001b[43mvizinhanca\u001b[49m\u001b[43m,\u001b[49m\u001b[43m \u001b[49m\u001b[43mmatriz_fluxo\u001b[49m\u001b[43m,\u001b[49m\u001b[43m \u001b[49m\u001b[43mmatriz_distancia\u001b[49m\u001b[43m)\u001b[49m\n\u001b[0;32m      9\u001b[0m     \u001b[38;5;28;01mif\u001b[39;00m calcular_aptidao_qap(melhor_vizinho, matriz_fluxo, matriz_distancia) \u001b[38;5;241m<\u001b[39m calcular_aptidao_qap(solucao_atual, matriz_fluxo, matriz_distancia):\n\u001b[0;32m     10\u001b[0m         solucao_atual \u001b[38;5;241m=\u001b[39m melhor_vizinho\n",
      "Cell \u001b[1;32mIn[10], line 4\u001b[0m, in \u001b[0;36mcalcular_melhor_vizinho\u001b[1;34m(vizinhanca, matriz_fluxo, matriz_distancia)\u001b[0m\n\u001b[0;32m      2\u001b[0m melhor_vizinho \u001b[38;5;241m=\u001b[39m vizinhanca[\u001b[38;5;241m0\u001b[39m]\n\u001b[0;32m      3\u001b[0m \u001b[38;5;28;01mfor\u001b[39;00m i \u001b[38;5;129;01min\u001b[39;00m \u001b[38;5;28mrange\u001b[39m(\u001b[38;5;241m1\u001b[39m, \u001b[38;5;28mlen\u001b[39m(vizinhanca)):\n\u001b[1;32m----> 4\u001b[0m     \u001b[38;5;28;01mif\u001b[39;00m \u001b[43mcalcular_aptidao_qap\u001b[49m\u001b[43m(\u001b[49m\u001b[43mvizinhanca\u001b[49m\u001b[43m[\u001b[49m\u001b[43mi\u001b[49m\u001b[43m]\u001b[49m\u001b[43m,\u001b[49m\u001b[43m \u001b[49m\u001b[43mmatriz_fluxo\u001b[49m\u001b[43m,\u001b[49m\u001b[43m \u001b[49m\u001b[43mmatriz_distancia\u001b[49m\u001b[43m)\u001b[49m \u001b[38;5;241m<\u001b[39m calcular_aptidao_qap(melhor_vizinho, matriz_fluxo, matriz_distancia):\n\u001b[0;32m      5\u001b[0m         melhor_vizinho \u001b[38;5;241m=\u001b[39m vizinhanca[i]\n\u001b[0;32m      6\u001b[0m \u001b[38;5;28;01mreturn\u001b[39;00m melhor_vizinho\n",
      "Cell \u001b[1;32mIn[9], line 6\u001b[0m, in \u001b[0;36mcalcular_aptidao_qap\u001b[1;34m(solucao, matriz_fluxo, matriz_distancia)\u001b[0m\n\u001b[0;32m      4\u001b[0m \u001b[38;5;28;01mfor\u001b[39;00m i \u001b[38;5;129;01min\u001b[39;00m \u001b[38;5;28mrange\u001b[39m(n):\n\u001b[0;32m      5\u001b[0m     \u001b[38;5;28;01mfor\u001b[39;00m j \u001b[38;5;129;01min\u001b[39;00m \u001b[38;5;28mrange\u001b[39m(n):\n\u001b[1;32m----> 6\u001b[0m         custo \u001b[38;5;241m+\u001b[39m\u001b[38;5;241m=\u001b[39m matriz_fluxo[i][j] \u001b[38;5;241m*\u001b[39m matriz_distancia[solucao[i]][solucao[j]]\n\u001b[0;32m      7\u001b[0m \u001b[38;5;28;01mreturn\u001b[39;00m custo\n",
      "\u001b[1;31mKeyboardInterrupt\u001b[0m: "
     ]
    }
   ],
   "source": [
    "if __name__ == \"__main__\":\n",
    "    arquivo = \"Chr12a.txt\"\n",
    "    # Executar Lipa80b.txt de novo\n",
    "    nome_instancia = os.path.splitext(os.path.basename(arquivo))[0]\n",
    "\n",
    "    n, flow_df, dist_df = ler_qap_com_n(arquivo)\n",
    "    flow = flow_df.values.tolist()\n",
    "    dist = dist_df.values.tolist()\n",
    "    matriz_fluxo = np.array(flow)\n",
    "    matriz_distancia = np.array(dist)\n",
    "\n",
    "    resultados = []\n",
    "\n",
    "    # Mudar cálculo de memória, ver ao longo de todo o processo e checar o pico\n",
    "    for seed in range(42, 52):  \n",
    "        random.seed(seed)\n",
    "\n",
    "        # Monitor de tempo e memória\n",
    "        process = psutil.Process(os.getpid())\n",
    "        memoria_inicial = process.memory_info().rss / (1024 * 1024)  \n",
    "        tempo_inicio = time.time()\n",
    "\n",
    "        solucao_inicial = gerar_array_replicavel(seed=seed, tamanho=n)\n",
    "\n",
    "        parametros = {\n",
    "            \"mu\": random.randint(5, 10),\n",
    "            \"lambd\": random.randint(30, 100),\n",
    "            \"tempo_max\": random.randint(3, 10) * 60,\n",
    "            \"taxa_mutacao\": random.uniform(0.4, 0.7),\n",
    "            \"taxa_busca_local\": random.uniform(0.4, 0.7),\n",
    "            \"iter_sem_melhora_max\": random.randint(5, 10),\n",
    "            \"solucao_inicial\": solucao_inicial,\n",
    "            \"matriz_fluxo\": matriz_fluxo,\n",
    "            \"matriz_distancia\": matriz_distancia\n",
    "        }\n",
    "\n",
    "        melhor_solucao, melhor_valor = ES_VND(**parametros)\n",
    "\n",
    "        tempo_fim = time.time()\n",
    "        memoria_final = process.memory_info().rss / (1024 * 1024)  # MB\n",
    "\n",
    "        resultados.append({\n",
    "            \"instancia\": nome_instancia,\n",
    "            \"seed\": seed,\n",
    "            \"melhor_solucao\": melhor_solucao,\n",
    "            \"custo\": melhor_valor,\n",
    "            \"tempo_execucao_segundos\": round(tempo_fim - tempo_inicio, 2),\n",
    "            \"memoria_usada_MB\": round(memoria_final - memoria_inicial, 2)\n",
    "        })\n",
    "\n",
    "        print(f\"Seed {seed} finalizada. Custo: {melhor_valor}\")\n",
    "\n",
    "    df_resultados = pd.DataFrame(resultados)\n",
    "    df_resultados.to_csv(f\"resultados_{nome_instancia}_teste2.csv\", index=False)\n",
    "\n",
    "    print(f\"\\nResultados salvos em resultados_{nome_instancia}_teste2.csv\")"
   ]
  }
 ],
 "metadata": {
  "kernelspec": {
   "display_name": "Python 3",
   "language": "python",
   "name": "python3"
  },
  "language_info": {
   "codemirror_mode": {
    "name": "ipython",
    "version": 3
   },
   "file_extension": ".py",
   "mimetype": "text/x-python",
   "name": "python",
   "nbconvert_exporter": "python",
   "pygments_lexer": "ipython3",
   "version": "3.11.5"
  }
 },
 "nbformat": 4,
 "nbformat_minor": 5
}
