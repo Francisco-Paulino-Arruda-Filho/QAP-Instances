{
 "cells": [
  {
   "cell_type": "markdown",
   "id": "7f116be3",
   "metadata": {},
   "source": [
    "# Imports and types"
   ]
  },
  {
   "cell_type": "code",
   "execution_count": 13,
   "id": "8fce7934",
   "metadata": {},
   "outputs": [],
   "source": [
    "import random\n",
    "import time\n",
    "import numpy as np\n",
    "import pandas as pd"
   ]
  },
  {
   "cell_type": "code",
   "execution_count": 14,
   "id": "f666ea59",
   "metadata": {},
   "outputs": [],
   "source": [
    "def calcular_aptidao(individuo):\n",
    "    return sum(individuo)"
   ]
  },
  {
   "cell_type": "code",
   "execution_count": 15,
   "id": "46acb126",
   "metadata": {},
   "outputs": [],
   "source": [
    "def mutacao(solucao):\n",
    "    nova = solucao[:]\n",
    "    a, b = random.sample(range(len(nova)), 2)\n",
    "    nova[a], nova[b] = nova[b], nova[a]\n",
    "    return nova"
   ]
  },
  {
   "cell_type": "code",
   "execution_count": 16,
   "id": "fcf6339c",
   "metadata": {},
   "outputs": [],
   "source": [
    "def gerar_vizinho(solucao):\n",
    "    return mutacao(solucao)"
   ]
  },
  {
   "cell_type": "code",
   "execution_count": 17,
   "id": "050548ee",
   "metadata": {},
   "outputs": [],
   "source": [
    "def gerar_array_replicavel(seed: int, tamanho: int) -> list[int]:\n",
    "    random.seed(seed)\n",
    "    vetor = list(range(tamanho))  \n",
    "    random.shuffle(vetor)\n",
    "    return vetor"
   ]
  },
  {
   "cell_type": "code",
   "execution_count": 18,
   "id": "b5be0814",
   "metadata": {},
   "outputs": [],
   "source": [
    "def calcular_aptidao_qap(solucao, matriz_fluxo, matriz_distancia):\n",
    "    n = len(solucao)\n",
    "    custo = 0\n",
    "    for i in range(n):\n",
    "        for j in range(n):\n",
    "            custo += matriz_fluxo[i][j] * matriz_distancia[solucao[i]][solucao[j]]\n",
    "    return custo"
   ]
  },
  {
   "cell_type": "code",
   "execution_count": 19,
   "id": "7036b55a",
   "metadata": {},
   "outputs": [],
   "source": [
    "def VND(solucao, matriz_fluxo, matriz_distancia, kmax=5):\n",
    "    melhor = solucao[:]\n",
    "    k = 1\n",
    "    while k <= kmax:\n",
    "        vizinho = gerar_vizinho(melhor)\n",
    "        if calcular_aptidao_qap(vizinho, matriz_fluxo, matriz_distancia) < calcular_aptidao_qap(melhor, matriz_fluxo, matriz_distancia):\n",
    "            melhor = vizinho\n",
    "            k = 1\n",
    "        else:\n",
    "            k += 1\n",
    "    return melhor"
   ]
  },
  {
   "cell_type": "code",
   "execution_count": 20,
   "id": "f529c7c4",
   "metadata": {},
   "outputs": [],
   "source": [
    "def ES_VND(mu, lambd, tempo_max, taxa_mutacao, taxa_busca_local, iter_sem_melhora_max,\n",
    "           solucao_inicial, matriz_fluxo, matriz_distancia):\n",
    "\n",
    "    P = [mutacao(solucao_inicial) for _ in range(lambd)]\n",
    "    melhor = None\n",
    "    melhor_aptidao = float('inf')\n",
    "    sem_melhora = 0\n",
    "\n",
    "    inicio = time.time()\n",
    "\n",
    "    while (time.time() - inicio) < tempo_max and sem_melhora < iter_sem_melhora_max:\n",
    "        aptidoes = [calcular_aptidao_qap(ind, matriz_fluxo, matriz_distancia) for ind in P]\n",
    "\n",
    "        for ind, apt in zip(P, aptidoes):\n",
    "            if apt < melhor_aptidao:\n",
    "                melhor_aptidao = apt\n",
    "                melhor = ind[:]\n",
    "                sem_melhora = 0\n",
    "        sem_melhora += 1\n",
    "\n",
    "        melhores_indices = sorted(range(len(P)), key=lambda i: aptidoes[i])[:mu]\n",
    "        Q = [P[i][:] for i in melhores_indices]\n",
    "\n",
    "        nova_geracao = Q[:]\n",
    "        for q in Q:\n",
    "            for _ in range(lambd // mu):\n",
    "                individuo = q[:]\n",
    "                if random.random() < taxa_mutacao:\n",
    "                    individuo = mutacao(individuo)\n",
    "                if random.random() < taxa_busca_local:\n",
    "                    individuo = VND(individuo, matriz_fluxo, matriz_distancia)\n",
    "                nova_geracao.append(individuo)\n",
    "\n",
    "        P = nova_geracao\n",
    "\n",
    "    return melhor, melhor_aptidao\n"
   ]
  },
  {
   "cell_type": "code",
   "execution_count": 21,
   "id": "ad3c3430",
   "metadata": {},
   "outputs": [],
   "source": [
    "def ler_qap_com_n(caminho: str):\n",
    "    with open(caminho, \"r\") as f:\n",
    "        dados = list(map(int, f.read().split()))\n",
    "        \n",
    "    n = dados[0]\n",
    "    valores = dados[1:]  \n",
    "\n",
    "    total_esperado = 2 * n * n\n",
    "    if len(valores) != total_esperado:\n",
    "        raise ValueError(f\"Esperado {total_esperado} valores, mas encontrado {len(valores)}.\")\n",
    "\n",
    "    flow_flat = valores[:n * n]\n",
    "    dist_flat = valores[n * n:]\n",
    "\n",
    "    flow_df = pd.DataFrame([flow_flat[i * n:(i + 1) * n] for i in range(n)])\n",
    "    dist_df = pd.DataFrame([dist_flat[i * n:(i + 1) * n] for i in range(n)])\n",
    "\n",
    "    return n, flow_df, dist_df"
   ]
  },
  {
   "cell_type": "code",
   "execution_count": 22,
   "id": "d8deec6d",
   "metadata": {},
   "outputs": [
    {
     "name": "stdout",
     "output_type": "stream",
     "text": [
      "Melhor solução encontrada: [8, 13, 2, 12, 3, 7, 1, 9, 5, 11, 4, 14, 10, 0, 6]\n",
      "Custo: 11598\n",
      "Parâmetros usados: {'mu': 5, 'lambd': 33, 'tempo_max': 240, 'taxa_mutacao': 0.465591392441081, 'taxa_busca_local': 0.5516065864310087, 'iter_sem_melhora_max': 5, 'solucao_inicial': [8, 13, 7, 6, 14, 12, 5, 2, 9, 3, 4, 11, 0, 1, 10], 'matriz_fluxo': array([[ 0, 12, 86, 68,  0,  0,  0,  0,  0,  0,  0,  0,  0,  0,  0],\n",
      "       [12,  0,  0,  0, 69, 34, 35,  0,  0,  0,  0,  0,  0,  0,  0],\n",
      "       [86,  0,  0,  0,  0,  0,  0, 19,  0,  0,  0,  0,  0,  0,  0],\n",
      "       [68,  0,  0,  0,  0,  0,  0,  0,  2, 21, 88,  0,  0,  0,  0],\n",
      "       [ 0, 69,  0,  0,  0,  0,  0,  0,  0,  0,  0, 79,  3, 40,  0],\n",
      "       [ 0, 34,  0,  0,  0,  0,  0,  0,  0,  0,  0,  0,  0,  0,  0],\n",
      "       [ 0, 35,  0,  0,  0,  0,  0,  0,  0,  0,  0,  0,  0,  0, 77],\n",
      "       [ 0,  0, 19,  0,  0,  0,  0,  0,  0,  0,  0,  0,  0,  0,  0],\n",
      "       [ 0,  0,  0,  2,  0,  0,  0,  0,  0,  0,  0,  0,  0,  0,  0],\n",
      "       [ 0,  0,  0, 21,  0,  0,  0,  0,  0,  0,  0,  0,  0,  0,  0],\n",
      "       [ 0,  0,  0, 88,  0,  0,  0,  0,  0,  0,  0,  0,  0,  0,  0],\n",
      "       [ 0,  0,  0,  0, 79,  0,  0,  0,  0,  0,  0,  0,  0,  0,  0],\n",
      "       [ 0,  0,  0,  0,  3,  0,  0,  0,  0,  0,  0,  0,  0,  0,  0],\n",
      "       [ 0,  0,  0,  0, 40,  0,  0,  0,  0,  0,  0,  0,  0,  0,  0],\n",
      "       [ 0,  0,  0,  0,  0,  0, 77,  0,  0,  0,  0,  0,  0,  0,  0]]), 'matriz_distancia': array([[ 0, 84, 81, 10, 40, 39,  5, 83, 10, 78, 88, 74, 88, 16, 21],\n",
      "       [84,  0, 39, 67, 62, 38,  3, 16, 43, 47, 70, 97,  4, 17, 34],\n",
      "       [81, 39,  0, 53, 12, 50, 98, 94,  4, 16, 24, 17, 20, 38, 60],\n",
      "       [10, 67, 53,  0, 43, 90, 84, 60, 50, 43, 46, 80, 53, 20,  1],\n",
      "       [40, 62, 12, 43,  0, 86, 18,  1, 28, 14, 58, 34,  2,  3, 55],\n",
      "       [39, 38, 50, 90, 86,  0, 58, 92, 90, 62, 99, 93, 64, 50, 83],\n",
      "       [ 5,  3, 98, 84, 18, 58,  0, 53, 93, 69, 98, 27, 19, 50, 86],\n",
      "       [83, 16, 94, 60,  1, 92, 53,  0, 30, 35, 39, 55, 25, 12, 41],\n",
      "       [10, 43,  4, 50, 28, 90, 93, 30,  0, 16, 10, 96,  7, 11, 52],\n",
      "       [78, 47, 16, 43, 14, 62, 69, 35, 16,  0, 28, 13, 97, 63, 91],\n",
      "       [88, 70, 24, 46, 58, 99, 98, 39, 10, 28,  0, 94, 91, 44, 62],\n",
      "       [74, 97, 17, 80, 34, 93, 27, 55, 96, 13, 94,  0, 48, 36, 11],\n",
      "       [88,  4, 20, 53,  2, 64, 19, 25,  7, 97, 91, 48,  0, 69, 80],\n",
      "       [16, 17, 38, 20,  3, 50, 50, 12, 11, 63, 44, 36, 69,  0, 41],\n",
      "       [21, 34, 60,  1, 55, 83, 86, 41, 52, 91, 62, 11, 80, 41,  0]])}\n"
     ]
    }
   ],
   "source": [
    "if __name__ == \"__main__\":\n",
    "    n, flow_df, dist_df = ler_qap_com_n(\"Chr15b.txt\")\n",
    "    flow = flow_df.values.tolist()\n",
    "    dist = dist_df.values.tolist()\n",
    "    matriz_fluxo = np.array(flow)\n",
    "    matriz_distancia = np.array(dist)\n",
    "    solucao_inicial = gerar_array_replicavel(seed=42, tamanho=n)\n",
    "\n",
    "    parametros = {\n",
    "        \"mu\": random.randint(5, 10),\n",
    "        \"lambd\": random.randint(30, 100),\n",
    "        \"tempo_max\": random.randint(3, 10) * 60,\n",
    "        \"taxa_mutacao\": random.uniform(0.4, 0.7),\n",
    "        \"taxa_busca_local\": random.uniform(0.4, 0.7),\n",
    "        \"iter_sem_melhora_max\": random.randint(5, 10),\n",
    "        \"solucao_inicial\": solucao_inicial,\n",
    "        \"matriz_fluxo\": matriz_fluxo,\n",
    "        \"matriz_distancia\": matriz_distancia\n",
    "    }\n",
    "\n",
    "    melhor_solucao, melhor_valor = ES_VND(**parametros)\n",
    "    print(\"Melhor solução encontrada:\", melhor_solucao)\n",
    "    print(\"Custo:\", melhor_valor)\n",
    "    print(\"Parâmetros usados:\", parametros)"
   ]
  }
 ],
 "metadata": {
  "kernelspec": {
   "display_name": "Python 3",
   "language": "python",
   "name": "python3"
  },
  "language_info": {
   "codemirror_mode": {
    "name": "ipython",
    "version": 3
   },
   "file_extension": ".py",
   "mimetype": "text/x-python",
   "name": "python",
   "nbconvert_exporter": "python",
   "pygments_lexer": "ipython3",
   "version": "3.11.5"
  }
 },
 "nbformat": 4,
 "nbformat_minor": 5
}
