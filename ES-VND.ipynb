{
 "cells": [
  {
   "cell_type": "markdown",
   "id": "7f116be3",
   "metadata": {},
   "source": [
    "# Imports and types"
   ]
  },
  {
   "cell_type": "code",
   "execution_count": 21,
   "id": "8fce7934",
   "metadata": {},
   "outputs": [],
   "source": [
    "import random\n",
    "import time\n",
    "import numpy as np\n",
    "import pandas as pd\n",
    "import psutil\n",
    "import os"
   ]
  },
  {
   "cell_type": "code",
   "execution_count": 22,
   "id": "f666ea59",
   "metadata": {},
   "outputs": [],
   "source": [
    "def calcular_aptidao(individuo):\n",
    "    return sum(individuo)"
   ]
  },
  {
   "cell_type": "code",
   "execution_count": 23,
   "id": "46acb126",
   "metadata": {},
   "outputs": [],
   "source": [
    "def mutacao(solucao):\n",
    "    nova = solucao[:]\n",
    "    a, b = random.sample(range(len(nova)), 2)\n",
    "    nova[a], nova[b] = nova[b], nova[a]\n",
    "    return nova"
   ]
  },
  {
   "cell_type": "code",
   "execution_count": 24,
   "id": "fcf6339c",
   "metadata": {},
   "outputs": [],
   "source": [
    "def gerar_vizinho(solucao):\n",
    "    return mutacao(solucao)"
   ]
  },
  {
   "cell_type": "code",
   "execution_count": 25,
   "id": "050548ee",
   "metadata": {},
   "outputs": [],
   "source": [
    "def gerar_array_replicavel(seed: int, tamanho: int) -> list[int]:\n",
    "    random.seed(seed)\n",
    "    vetor = list(range(tamanho))  \n",
    "    random.shuffle(vetor)\n",
    "    return vetor"
   ]
  },
  {
   "cell_type": "code",
   "execution_count": 26,
   "id": "b5be0814",
   "metadata": {},
   "outputs": [],
   "source": [
    "def calcular_aptidao_qap(solucao, matriz_fluxo, matriz_distancia):\n",
    "    n = len(solucao)\n",
    "    custo = 0\n",
    "    for i in range(n):\n",
    "        for j in range(n):\n",
    "            custo += matriz_fluxo[i][j] * matriz_distancia[solucao[i]][solucao[j]]\n",
    "    return custo"
   ]
  },
  {
   "cell_type": "code",
   "execution_count": 27,
   "id": "7036b55a",
   "metadata": {},
   "outputs": [],
   "source": [
    "def VND(solucao, matriz_fluxo, matriz_distancia, kmax=5):\n",
    "    melhor = solucao[:]\n",
    "    k = 1\n",
    "    while k <= kmax:\n",
    "        vizinho = gerar_vizinho(melhor)\n",
    "        if calcular_aptidao_qap(vizinho, matriz_fluxo, matriz_distancia) < calcular_aptidao_qap(melhor, matriz_fluxo, matriz_distancia):\n",
    "            melhor = vizinho\n",
    "            k = 1\n",
    "        else:\n",
    "            k += 1\n",
    "    return melhor"
   ]
  },
  {
   "cell_type": "code",
   "execution_count": 28,
   "id": "f529c7c4",
   "metadata": {},
   "outputs": [],
   "source": [
    "def ES_VND(mu, lambd, tempo_max, taxa_mutacao, taxa_busca_local, iter_sem_melhora_max,\n",
    "           solucao_inicial, matriz_fluxo, matriz_distancia):\n",
    "\n",
    "    P = [mutacao(solucao_inicial) for _ in range(lambd)]\n",
    "    melhor = None\n",
    "    melhor_aptidao = float('inf')\n",
    "    sem_melhora = 0\n",
    "\n",
    "    inicio = time.time()\n",
    "\n",
    "    while (time.time() - inicio) < tempo_max and sem_melhora < iter_sem_melhora_max:\n",
    "        aptidoes = [calcular_aptidao_qap(ind, matriz_fluxo, matriz_distancia) for ind in P]\n",
    "\n",
    "        for ind, apt in zip(P, aptidoes):\n",
    "            if apt < melhor_aptidao:\n",
    "                melhor_aptidao = apt\n",
    "                melhor = ind[:]\n",
    "                sem_melhora = 0\n",
    "        sem_melhora += 1\n",
    "\n",
    "        melhores_indices = sorted(range(len(P)), key=lambda i: aptidoes[i])[:mu]\n",
    "        Q = [P[i][:] for i in melhores_indices]\n",
    "\n",
    "        nova_geracao = Q[:]\n",
    "        for q in Q:\n",
    "            for _ in range(lambd // mu):\n",
    "                individuo = q[:]\n",
    "                if random.random() < taxa_mutacao:\n",
    "                    individuo = mutacao(individuo)\n",
    "                if random.random() < taxa_busca_local:\n",
    "                    individuo = VND(individuo, matriz_fluxo, matriz_distancia)\n",
    "                nova_geracao.append(individuo)\n",
    "\n",
    "        P = nova_geracao\n",
    "\n",
    "    return melhor, melhor_aptidao"
   ]
  },
  {
   "cell_type": "code",
   "execution_count": 29,
   "id": "ad3c3430",
   "metadata": {},
   "outputs": [],
   "source": [
    "def ler_qap_com_n(caminho: str):\n",
    "    with open(caminho, \"r\") as f:\n",
    "        dados = list(map(int, f.read().split()))\n",
    "        \n",
    "    n = dados[0]\n",
    "    valores = dados[1:]  \n",
    "\n",
    "    total_esperado = 2 * n * n\n",
    "    if len(valores) != total_esperado:\n",
    "        raise ValueError(f\"Esperado {total_esperado} valores, mas encontrado {len(valores)}.\")\n",
    "\n",
    "    flow_flat = valores[:n * n]\n",
    "    dist_flat = valores[n * n:]\n",
    "\n",
    "    flow_df = pd.DataFrame([flow_flat[i * n:(i + 1) * n] for i in range(n)])\n",
    "    dist_df = pd.DataFrame([dist_flat[i * n:(i + 1) * n] for i in range(n)])\n",
    "\n",
    "    return n, flow_df, dist_df"
   ]
  },
  {
   "cell_type": "code",
   "execution_count": null,
   "id": "d8deec6d",
   "metadata": {},
   "outputs": [
    {
     "name": "stdout",
     "output_type": "stream",
     "text": [
      "Seed 42 finalizada. Custo: 9520085\n",
      "Seed 43 finalizada. Custo: 9508540\n",
      "Seed 44 finalizada. Custo: 9525871\n",
      "Seed 45 finalizada. Custo: 9512868\n",
      "Seed 46 finalizada. Custo: 9566457\n",
      "Seed 47 finalizada. Custo: 9525759\n",
      "Seed 48 finalizada. Custo: 9541981\n",
      "Seed 49 finalizada. Custo: 9511561\n",
      "Seed 50 finalizada. Custo: 9567223\n"
     ]
    }
   ],
   "source": [
    "if __name__ == \"__main__\":\n",
    "    arquivo = \"Lipa80b.txt\"\n",
    "    nome_instancia = os.path.splitext(os.path.basename(arquivo))[0]\n",
    "\n",
    "    n, flow_df, dist_df = ler_qap_com_n(arquivo)\n",
    "    flow = flow_df.values.tolist()\n",
    "    dist = dist_df.values.tolist()\n",
    "    matriz_fluxo = np.array(flow)\n",
    "    matriz_distancia = np.array(dist)\n",
    "\n",
    "    resultados = []\n",
    "\n",
    "    for seed in range(42, 52):  \n",
    "        random.seed(seed)\n",
    "\n",
    "        # Monitor de tempo e memória\n",
    "        process = psutil.Process(os.getpid())\n",
    "        memoria_inicial = process.memory_info().rss / (1024 * 1024)  \n",
    "        tempo_inicio = time.time()\n",
    "\n",
    "        solucao_inicial = gerar_array_replicavel(seed=seed, tamanho=n)\n",
    "\n",
    "        parametros = {\n",
    "            \"mu\": random.randint(5, 10),\n",
    "            \"lambd\": random.randint(30, 100),\n",
    "            \"tempo_max\": random.randint(3, 10) * 60,\n",
    "            \"taxa_mutacao\": random.uniform(0.4, 0.7),\n",
    "            \"taxa_busca_local\": random.uniform(0.4, 0.7),\n",
    "            \"iter_sem_melhora_max\": random.randint(5, 10),\n",
    "            \"solucao_inicial\": solucao_inicial,\n",
    "            \"matriz_fluxo\": matriz_fluxo,\n",
    "            \"matriz_distancia\": matriz_distancia\n",
    "        }\n",
    "\n",
    "        melhor_solucao, melhor_valor = ES_VND(**parametros)\n",
    "\n",
    "        tempo_fim = time.time()\n",
    "        memoria_final = process.memory_info().rss / (1024 * 1024)  # MB\n",
    "\n",
    "        resultados.append({\n",
    "            \"instancia\": nome_instancia,\n",
    "            \"seed\": seed,\n",
    "            \"melhor_solucao\": melhor_solucao,\n",
    "            \"custo\": melhor_valor,\n",
    "            \"tempo_execucao_segundos\": round(tempo_fim - tempo_inicio, 2),\n",
    "            \"memoria_usada_MB\": round(memoria_final - memoria_inicial, 2)\n",
    "        })\n",
    "\n",
    "        print(f\"Seed {seed} finalizada. Custo: {melhor_valor}\")\n",
    "\n",
    "    df_resultados = pd.DataFrame(resultados)\n",
    "    df_resultados.to_csv(f\"resultados_{nome_instancia}.csv\", index=False)\n",
    "\n",
    "    print(f\"\\nResultados salvos em resultados_{nome_instancia}.csv\")"
   ]
  }
 ],
 "metadata": {
  "kernelspec": {
   "display_name": "Python 3",
   "language": "python",
   "name": "python3"
  },
  "language_info": {
   "codemirror_mode": {
    "name": "ipython",
    "version": 3
   },
   "file_extension": ".py",
   "mimetype": "text/x-python",
   "name": "python",
   "nbconvert_exporter": "python",
   "pygments_lexer": "ipython3",
   "version": "3.11.5"
  }
 },
 "nbformat": 4,
 "nbformat_minor": 5
}
