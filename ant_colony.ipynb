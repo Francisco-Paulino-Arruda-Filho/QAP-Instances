{
 "cells": [
  {
   "cell_type": "code",
   "execution_count": 1,
   "id": "0e5c6a35",
   "metadata": {},
   "outputs": [],
   "source": [
    "import numpy as np\n",
    "import random\n",
    "import pandas as pd\n",
    "import psutil\n",
    "import os\n",
    "import time"
   ]
  },
  {
   "cell_type": "code",
   "execution_count": 2,
   "id": "68b15cde",
   "metadata": {},
   "outputs": [],
   "source": [
    "def gerar_array_replicavel(seed: int, tamanho: int) -> list[int]:\n",
    "    random.seed(seed)\n",
    "    vetor = list(range(tamanho))  \n",
    "    random.shuffle(vetor)\n",
    "    return vetor"
   ]
  },
  {
   "cell_type": "code",
   "execution_count": 3,
   "id": "bbafbf2a",
   "metadata": {},
   "outputs": [],
   "source": [
    "def calcular_aptidao_qap(solucao, matriz_fluxo, matriz_distancia):\n",
    "    solucao_flat = []\n",
    "    for x in solucao:\n",
    "        if isinstance(x, (list, np.ndarray)):  \n",
    "            solucao_flat.extend(int(v) for v in x)\n",
    "        else:\n",
    "            solucao_flat.append(int(x))\n",
    "    \n",
    "    n = len(solucao_flat)\n",
    "    custo = 0\n",
    "    for i in range(n):\n",
    "        for j in range(n):\n",
    "            custo += matriz_fluxo[i][j] * matriz_distancia[solucao_flat[i]][solucao_flat[j]]\n",
    "    return custo\n"
   ]
  },
  {
   "cell_type": "code",
   "execution_count": 4,
   "id": "39fb2e75",
   "metadata": {},
   "outputs": [],
   "source": [
    "def inicializar_feromonio(n, valor_inicial=1.0):\n",
    "    return np.full((n, n), valor_inicial)"
   ]
  },
  {
   "cell_type": "code",
   "execution_count": 5,
   "id": "6ca7d533",
   "metadata": {},
   "outputs": [],
   "source": [
    "def construir_solucao_qap(feromonio, alpha, beta, heuristica):\n",
    "    n = feromonio.shape[0]\n",
    "    nao_visitados = list(range(n))\n",
    "    solucao = []\n",
    "\n",
    "    while nao_visitados:\n",
    "        if not solucao:\n",
    "            atual = random.choice(nao_visitados)\n",
    "        else:\n",
    "            ultima = solucao[-1]\n",
    "            pesos = []\n",
    "            for prox in nao_visitados:\n",
    "                tau = feromonio[ultima][prox] ** alpha\n",
    "                eta = heuristica[ultima][prox] ** beta\n",
    "                pesos.append(tau * eta)\n",
    "            pesos = np.array(pesos)\n",
    "            pesos /= pesos.sum()\n",
    "            atual = random.choices(nao_visitados, weights=pesos)[0]\n",
    "\n",
    "        solucao.append(atual)\n",
    "        nao_visitados.remove(atual)\n",
    "\n",
    "    return solucao\n"
   ]
  },
  {
   "cell_type": "code",
   "execution_count": 6,
   "id": "7a5d864c",
   "metadata": {},
   "outputs": [],
   "source": [
    "def busca_local(solucao, fluxo, distancia):\n",
    "    melhor = solucao.copy()\n",
    "    melhor_custo = calcular_aptidao_qap(melhor, fluxo, distancia)\n",
    "    melhorou = True\n",
    "    while melhorou:\n",
    "        melhorou = False\n",
    "        for i in range(len(solucao) - 1):\n",
    "            for j in range(i + 1, len(solucao)):\n",
    "                nova = melhor.copy()\n",
    "                nova[i], nova[j] = nova[j], nova[i]\n",
    "                custo_novo = calcular_aptidao_qap(nova, fluxo, distancia)\n",
    "                if custo_novo < melhor_custo:\n",
    "                    melhor, melhor_custo = nova, custo_novo\n",
    "                    melhorou = True\n",
    "    return melhor"
   ]
  },
  {
   "cell_type": "code",
   "execution_count": 7,
   "id": "5befc4be",
   "metadata": {},
   "outputs": [],
   "source": [
    "def atualizar_feromonio(feromonio, solucoes, custos, rho, Q):\n",
    "    feromonio *= (1 - rho)\n",
    "    for solucao, custo in zip(solucoes, custos):\n",
    "        deposito = Q / custo\n",
    "        for i in range(len(solucao) - 1):\n",
    "            feromonio[solucao[i]][solucao[i+1]] += deposito\n",
    "        feromonio[solucao[-1]][solucao[0]] += deposito\n",
    "    return feromonio"
   ]
  },
  {
   "cell_type": "code",
   "execution_count": 8,
   "id": "ffe6746a",
   "metadata": {},
   "outputs": [],
   "source": [
    "def aco_qap(fluxo, distancia, n_formigas=10, alpha=1, beta=2, rho=0.1, Q=1, iter_max=100):\n",
    "    n = len(fluxo)\n",
    "    heuristica = 1 / (np.array(distancia) + 1e-10)  \n",
    "    feromonio = inicializar_feromonio(n)\n",
    "\n",
    "    melhor_solucao = None\n",
    "    melhor_custo = float('inf')\n",
    "\n",
    "    for _ in range(iter_max):\n",
    "        solucoes = []\n",
    "        custos = []\n",
    "        for _ in range(n_formigas):\n",
    "            s = construir_solucao_qap(feromonio, alpha, beta, heuristica)\n",
    "            s = busca_local(s, fluxo, distancia)  \n",
    "            custo = calcular_aptidao_qap(s, fluxo, distancia)\n",
    "            solucoes.append(s)\n",
    "            custos.append(custo)\n",
    "            if custo < melhor_custo:\n",
    "                melhor_solucao, melhor_custo = s, custo\n",
    "\n",
    "        feromonio = atualizar_feromonio(feromonio, solucoes, custos, rho, Q)\n",
    "\n",
    "    return melhor_solucao, melhor_custo"
   ]
  },
  {
   "cell_type": "code",
   "execution_count": 9,
   "id": "74a240ae",
   "metadata": {},
   "outputs": [],
   "source": [
    "def ler_qap_com_n(caminho: str):\n",
    "    with open(caminho, \"r\") as f:\n",
    "        dados = list(map(int, f.read().split()))\n",
    "        \n",
    "    n = dados[0]\n",
    "    valores = dados[1:]  \n",
    "\n",
    "    total_esperado = 2 * n * n\n",
    "    if len(valores) != total_esperado:\n",
    "        raise ValueError(f\"Esperado {total_esperado} valores, mas encontrado {len(valores)}.\")\n",
    "\n",
    "    flow_flat = valores[:n * n]\n",
    "    dist_flat = valores[n * n:]\n",
    "\n",
    "    flow_df = pd.DataFrame([flow_flat[i * n:(i + 1) * n] for i in range(n)])\n",
    "    dist_df = pd.DataFrame([dist_flat[i * n:(i + 1) * n] for i in range(n)])\n",
    "\n",
    "    return n, flow_df, dist_df"
   ]
  },
  {
   "cell_type": "code",
   "execution_count": 10,
   "id": "58e8072b",
   "metadata": {},
   "outputs": [
    {
     "name": "stdout",
     "output_type": "stream",
     "text": [
      "Seed 42 finalizada. Custo: 9552\n",
      "Seed 43 finalizada. Custo: 9552\n",
      "Seed 44 finalizada. Custo: 9552\n",
      "Seed 45 finalizada. Custo: 9552\n",
      "Seed 46 finalizada. Custo: 9552\n",
      "Seed 47 finalizada. Custo: 9552\n",
      "Seed 48 finalizada. Custo: 9552\n",
      "Seed 49 finalizada. Custo: 9552\n",
      "Seed 50 finalizada. Custo: 9552\n",
      "Seed 51 finalizada. Custo: 9916\n",
      "\n",
      "Resultados salvos em resultados_Chr12a_ACO.csv\n"
     ]
    }
   ],
   "source": [
    "if __name__ == \"__main__\":\n",
    "    arquivo = \"Chr12a.txt\"\n",
    "    nome_instancia = os.path.splitext(os.path.basename(arquivo))[0]\n",
    "\n",
    "    n, flow_df, dist_df = ler_qap_com_n(arquivo)\n",
    "    matriz_fluxo = np.array(flow_df.values.tolist())\n",
    "    matriz_distancia = np.array(dist_df.values.tolist())\n",
    "\n",
    "    resultados = []\n",
    "\n",
    "    for seed in range(42, 52):  # 42 até 51\n",
    "        random.seed(seed)\n",
    "        np.random.seed(seed)\n",
    "\n",
    "        process = psutil.Process(os.getpid())\n",
    "        memoria_inicial = process.memory_info().rss / (1024 * 1024)\n",
    "        tempo_inicio = time.time()\n",
    "\n",
    "        # parâmetros do ACO (podem ser randomizados também se você quiser variar)\n",
    "        parametros = {\n",
    "            \"n_formigas\": random.randint(5, 20),\n",
    "            \"alpha\": random.uniform(0.5, 2.0),\n",
    "            \"beta\": random.uniform(1.0, 3.0),\n",
    "            \"rho\": random.uniform(0.05, 0.2),\n",
    "            \"Q\": 1,\n",
    "            \"iter_max\": random.randint(50, 150)\n",
    "        }\n",
    "\n",
    "        melhor_solucao, melhor_custo = aco_qap(\n",
    "            fluxo=matriz_fluxo,\n",
    "            distancia=matriz_distancia,\n",
    "            **parametros\n",
    "        )\n",
    "\n",
    "        tempo_fim = time.time()\n",
    "        memoria_final = process.memory_info().rss / (1024 * 1024)\n",
    "\n",
    "        resultados.append({\n",
    "            \"instancia\": nome_instancia,\n",
    "            \"seed\": seed,\n",
    "            \"melhor_solucao\": melhor_solucao,\n",
    "            \"custo\": melhor_custo,\n",
    "            \"tempo_execucao_segundos\": round(tempo_fim - tempo_inicio, 2),\n",
    "            \"memoria_usada_MB\": round(memoria_final - memoria_inicial, 2),\n",
    "            **parametros  # adiciona os parâmetros do ACO\n",
    "        })\n",
    "\n",
    "        print(f\"Seed {seed} finalizada. Custo: {melhor_custo}\")\n",
    "\n",
    "    df_resultados = pd.DataFrame(resultados)\n",
    "    df_resultados.to_csv(f\"resultados_{nome_instancia}_ACO.csv\", index=False)\n",
    "\n",
    "    print(f\"\\nResultados salvos em resultados_{nome_instancia}_ACO.csv\")"
   ]
  },
  {
   "cell_type": "code",
   "execution_count": 11,
   "id": "f9fe81c4",
   "metadata": {},
   "outputs": [],
   "source": [
    "solucao = aco_qap(matriz_fluxo, matriz_distancia, n_formigas=10, alpha=1, beta=2, rho=0.1, Q=1, iter_max=100)"
   ]
  },
  {
   "cell_type": "code",
   "execution_count": 12,
   "id": "92eea70c",
   "metadata": {},
   "outputs": [],
   "source": [
    "#calcular_aptidao_qap(solucao=solucao[0], matriz_fluxo=flow, matriz_distancia=dist)"
   ]
  }
 ],
 "metadata": {
  "kernelspec": {
   "display_name": "Python 3",
   "language": "python",
   "name": "python3"
  },
  "language_info": {
   "codemirror_mode": {
    "name": "ipython",
    "version": 3
   },
   "file_extension": ".py",
   "mimetype": "text/x-python",
   "name": "python",
   "nbconvert_exporter": "python",
   "pygments_lexer": "ipython3",
   "version": "3.11.5"
  }
 },
 "nbformat": 4,
 "nbformat_minor": 5
}
