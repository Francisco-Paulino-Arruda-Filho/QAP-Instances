{
 "cells": [
  {
   "cell_type": "markdown",
   "id": "7f116be3",
   "metadata": {},
   "source": [
    "# Imports and types"
   ]
  },
  {
   "cell_type": "code",
   "execution_count": 1,
   "id": "8fce7934",
   "metadata": {},
   "outputs": [],
   "source": [
    "import random\n",
    "import time\n",
    "import numpy as np\n",
    "import pandas as pd\n",
    "import psutil\n",
    "import os \n",
    "import glob"
   ]
  },
  {
   "cell_type": "code",
   "execution_count": 2,
   "id": "f666ea59",
   "metadata": {},
   "outputs": [],
   "source": [
    "def calcular_aptidao(individuo):\n",
    "    return sum(individuo)"
   ]
  },
  {
   "cell_type": "code",
   "execution_count": 3,
   "id": "46acb126",
   "metadata": {},
   "outputs": [],
   "source": [
    "def mutacao(solucao):\n",
    "    nova = solucao[:]\n",
    "    a, b = random.sample(range(len(nova)), 2)\n",
    "    nova[a], nova[b] = nova[b], nova[a]\n",
    "    return nova"
   ]
  },
  {
   "cell_type": "code",
   "execution_count": 4,
   "id": "fcf6339c",
   "metadata": {},
   "outputs": [],
   "source": [
    "# gerar_vizinhanca\n",
    "def gerar_vizinho(solucao):\n",
    "    return mutacao(solucao)"
   ]
  },
  {
   "cell_type": "markdown",
   "id": "0190e502",
   "metadata": {},
   "source": [
    "# Gerar vizinhanças"
   ]
  },
  {
   "cell_type": "code",
   "execution_count": 5,
   "id": "bd674943",
   "metadata": {},
   "outputs": [],
   "source": [
    "# M1: Troca de elementos adjacentes\n",
    "def gerar_vizinhanca_1(solucao):\n",
    "    vizinhanca = []\n",
    "    for i in range(len(solucao) - 1):\n",
    "        vizinho = solucao[:]\n",
    "        vizinho[i], vizinho[i+1] = vizinho[i+1], vizinho[i]\n",
    "        vizinhanca.append(vizinho)\n",
    "    return vizinhanca"
   ]
  },
  {
   "cell_type": "code",
   "execution_count": 6,
   "id": "388c5da2",
   "metadata": {},
   "outputs": [],
   "source": [
    "# M2: Troca de elementos com distância 2\n",
    "def gerar_vizinhanca_2(solucao):\n",
    "    vizinhanca = []\n",
    "    for i in range(len(solucao) - 2):\n",
    "        vizinho = solucao[:]\n",
    "        vizinho[i], vizinho[i+2] = vizinho[i+2], vizinho[i]\n",
    "        vizinhanca.append(vizinho)\n",
    "    return vizinhanca"
   ]
  },
  {
   "cell_type": "code",
   "execution_count": 7,
   "id": "bca097ff",
   "metadata": {},
   "outputs": [],
   "source": [
    "# M3: Todas as trocas possíveis entre pares de posições\n",
    "def gerar_vizinhanca_3(solucao):\n",
    "    vizinhanca = []\n",
    "    n = len(solucao)\n",
    "    for i in range(n):\n",
    "        for j in range(i + 1, n):\n",
    "            vizinho = solucao[:]\n",
    "            vizinho[i], vizinho[j] = vizinho[j], vizinho[i]\n",
    "            vizinhanca.append(vizinho)\n",
    "    return vizinhanca"
   ]
  },
  {
   "cell_type": "code",
   "execution_count": 8,
   "id": "6e3be2aa",
   "metadata": {},
   "outputs": [],
   "source": [
    "# M4: Inserção de um elemento em posição anterior\n",
    "def gerar_vizinhanca_4(solucao):\n",
    "    vizinhanca = []\n",
    "    n = len(solucao)\n",
    "    for i in range(n):\n",
    "        for j in range(i):\n",
    "            vizinho = solucao[:]\n",
    "            elem = vizinho.pop(i)\n",
    "            vizinho.insert(j, elem)\n",
    "            vizinhanca.append(vizinho)\n",
    "    return vizinhanca"
   ]
  },
  {
   "cell_type": "code",
   "execution_count": 9,
   "id": "4f22818d",
   "metadata": {},
   "outputs": [],
   "source": [
    "# M5: Inserção de um elemento em posição posterior\n",
    "def gerar_vizinhanca_5(solucao):\n",
    "    vizinhanca = []\n",
    "    n = len(solucao)\n",
    "    for i in range(n):\n",
    "        for j in range(i+1, n):\n",
    "            vizinho = solucao[:]\n",
    "            elem = vizinho.pop(i)\n",
    "            vizinho.insert(j, elem)\n",
    "            vizinhanca.append(vizinho)\n",
    "    return vizinhanca"
   ]
  },
  {
   "cell_type": "code",
   "execution_count": 10,
   "id": "3da41c77",
   "metadata": {},
   "outputs": [],
   "source": [
    "# M6: Reversão de segmentos de tamanho 2\n",
    "def gerar_vizinhanca_6(solucao):\n",
    "    vizinhanca = []\n",
    "    n = len(solucao)\n",
    "    for i in range(n-1):\n",
    "        vizinho = solucao[:]\n",
    "        vizinho[i:i+2] = reversed(vizinho[i:i+2])\n",
    "        vizinhanca.append(vizinho)\n",
    "    return vizinhanca"
   ]
  },
  {
   "cell_type": "code",
   "execution_count": 11,
   "id": "91466cce",
   "metadata": {},
   "outputs": [],
   "source": [
    "# M7: Reversão de segmentos de tamanho 3\n",
    "def gerar_vizinhanca_7(solucao):\n",
    "    vizinhanca = []\n",
    "    n = len(solucao)\n",
    "    for i in range(n-2):\n",
    "        vizinho = solucao[:]\n",
    "        vizinho[i:i+3] = reversed(vizinho[i:i+3])\n",
    "        vizinhanca.append(vizinho)\n",
    "    return vizinhanca"
   ]
  },
  {
   "cell_type": "code",
   "execution_count": 12,
   "id": "89ea11ba",
   "metadata": {},
   "outputs": [],
   "source": [
    "# M8: 2-opt (reversão de qualquer sublista)\n",
    "def gerar_vizinhanca_8(solucao):\n",
    "    vizinhanca = []\n",
    "    n = len(solucao)\n",
    "    for i in range(n):\n",
    "        for j in range(i+2, n):  # precisa pelo menos 2 de diferença\n",
    "            vizinho = solucao[:]\n",
    "            vizinho[i:j] = reversed(vizinho[i:j])\n",
    "            vizinhanca.append(vizinho)\n",
    "    return vizinhanca"
   ]
  },
  {
   "cell_type": "code",
   "execution_count": 13,
   "id": "284aac86",
   "metadata": {},
   "outputs": [],
   "source": [
    "# M9: Swap de blocos de tamanho 2\n",
    "def gerar_vizinhanca_9(solucao):\n",
    "    vizinhanca = []\n",
    "    n = len(solucao)\n",
    "    for i in range(n-1):\n",
    "        for j in range(i+2, n-1):\n",
    "            vizinho = solucao[:]\n",
    "            vizinho[i:i+2], vizinho[j:j+2] = vizinho[j:j+2], vizinho[i:i+2]\n",
    "            vizinhanca.append(vizinho)\n",
    "    return vizinhanca"
   ]
  },
  {
   "cell_type": "code",
   "execution_count": 14,
   "id": "11c83474",
   "metadata": {},
   "outputs": [],
   "source": [
    "def selecao_por_torneio(populacao, aptidoes, k=3):\n",
    "    selecionados = []\n",
    "    for _ in range(len(populacao)):\n",
    "        candidatos = random.sample(list(zip(populacao, aptidoes)), k)\n",
    "        selecionados.append(max(candidatos, key=lambda x: x[1])[0])\n",
    "    return selecionados"
   ]
  },
  {
   "cell_type": "markdown",
   "id": "3329986b",
   "metadata": {},
   "source": [
    "# Croosover"
   ]
  },
  {
   "cell_type": "code",
   "execution_count": 15,
   "id": "8cd738bb",
   "metadata": {},
   "outputs": [],
   "source": [
    "def crossover(pai1, pai2):\n",
    "    ponto = random.randint(1, len(pai1)-1)\n",
    "    filho = pai1[:ponto]\n",
    "    filho.extend([gene for gene in pai2 if gene not in filho])\n",
    "    return filho\n",
    "\n",
    "def change_random_paq_positions(solucao):\n",
    "    nova = solucao[:]\n",
    "    a, b = random.sample(range(len(nova)), 2)\n",
    "    nova[a], nova[b] = nova[b], nova[a]\n",
    "    return nova\n",
    "\n",
    "def odd_even_crossover(pai1, pai2):\n",
    "    filho1, filho2 = pai1[:], pai2[:]\n",
    "    for i in range(len(pai1)):\n",
    "        if i % 2 == 0:\n",
    "            filho1[i], filho2[i] = pai2[i], pai1[i]\n",
    "    return filho1, filho2\n",
    "\n",
    "def alternate_crossover(pai1, pai2):\n",
    "    filho = []\n",
    "    for i in range(len(pai1)):\n",
    "        if i % 2 == 0:\n",
    "            filho.append(pai1[i])\n",
    "        else:\n",
    "            filho.append(pai2[i])\n",
    "    return filho"
   ]
  },
  {
   "cell_type": "markdown",
   "id": "018891b2",
   "metadata": {},
   "source": [
    "# Mutação"
   ]
  },
  {
   "cell_type": "code",
   "execution_count": 16,
   "id": "cc4b503d",
   "metadata": {},
   "outputs": [],
   "source": [
    "def switch_positions(solucao, pos1, pos2):\n",
    "    nova = solucao[:]\n",
    "    nova[pos1], nova[pos2] = nova[pos2], nova[pos1]\n",
    "    return nova"
   ]
  },
  {
   "cell_type": "code",
   "execution_count": 17,
   "id": "ddd12356",
   "metadata": {},
   "outputs": [],
   "source": [
    "def random_swap(solucao):\n",
    "    a, b = random.sample(range(len(solucao)), 2)\n",
    "    return switch_positions(solucao, a, b)"
   ]
  },
  {
   "cell_type": "code",
   "execution_count": 18,
   "id": "050548ee",
   "metadata": {},
   "outputs": [],
   "source": [
    "def gerar_array_replicavel(seed: int, tamanho: int) -> list[int]:\n",
    "    \"\"\"Gera um array de inteiros de 0 a tamanho-1 embaralhado, replicável com a mesma semente\n",
    "        criando populações iniciais diferentes para cada execução e não reiniciando o gerador global de random\n",
    "    \"\"\"\n",
    "    rng = random.Random(seed)   # cria gerador independente\n",
    "    vetor = list(range(tamanho))\n",
    "    rng.shuffle(vetor)\n",
    "    return vetor\n"
   ]
  },
  {
   "cell_type": "markdown",
   "id": "b1423d6c",
   "metadata": {},
   "source": [
    "# Pareamento"
   ]
  },
  {
   "cell_type": "code",
   "execution_count": 19,
   "id": "d1f8be0b",
   "metadata": {},
   "outputs": [],
   "source": [
    "def elite_pairing_vectorized(populacao, aptidoes, num_pares):\n",
    "    indices_ordenados = np.argsort(aptidoes)[-2*num_pares:]  # pega os índices dos 2*num_pares melhores\n",
    "    melhores = np.array(populacao)[indices_ordenados]\n",
    "    pais1 = melhores[:num_pares]\n",
    "    pais2 = melhores[num_pares:2*num_pares]\n",
    "    return list(zip(pais1, pais2))"
   ]
  },
  {
   "cell_type": "code",
   "execution_count": 20,
   "id": "e9c05ec8",
   "metadata": {},
   "outputs": [],
   "source": [
    "def best_worst_pairing_vectorized(populacao, aptidoes, num_pares):\n",
    "    indices_ordenados = np.argsort(aptidoes)\n",
    "    melhores = np.array(populacao)[indices_ordenados[-num_pares:]]\n",
    "    piores = np.array(populacao)[indices_ordenados[:num_pares]]\n",
    "    return list(zip(melhores, piores))"
   ]
  },
  {
   "cell_type": "code",
   "execution_count": 21,
   "id": "b5be0814",
   "metadata": {},
   "outputs": [],
   "source": [
    "def calcular_aptidao_qap(solucao, matriz_fluxo, matriz_distancia):\n",
    "    n = len(solucao)\n",
    "    custo = 0\n",
    "    for i in range(n):\n",
    "        for j in range(n):\n",
    "            custo += matriz_fluxo[i][j] * matriz_distancia[solucao[i]][solucao[j]]\n",
    "    return -custo"
   ]
  },
  {
   "cell_type": "code",
   "execution_count": 22,
   "id": "55a35323",
   "metadata": {},
   "outputs": [],
   "source": [
    "def calcular_melhor_vizinho(vizinhanca, matriz_fluxo, matriz_distancia):\n",
    "    melhor_vizinho = vizinhanca[0]\n",
    "    melhor_aptidao = calcular_aptidao_qap(melhor_vizinho, matriz_fluxo, matriz_distancia)\n",
    "\n",
    "    for i in range(1, len(vizinhanca)):\n",
    "        aptidao = calcular_aptidao_qap(vizinhanca[i], matriz_fluxo, matriz_distancia)\n",
    "        if aptidao > melhor_aptidao:  \n",
    "            melhor_vizinho = vizinhanca[i]\n",
    "            melhor_aptidao = aptidao\n",
    "\n",
    "    return melhor_vizinho"
   ]
  },
  {
   "cell_type": "code",
   "execution_count": 23,
   "id": "7036b55a",
   "metadata": {},
   "outputs": [],
   "source": [
    "def VND(solucao, matriz_fluxo, matriz_distancia):\n",
    "    solucao_atual = solucao[:]\n",
    "    k = 0\n",
    "    funcoes_vizinhanca = [gerar_vizinhanca_1, gerar_vizinhanca_2, gerar_vizinhanca_3,\n",
    "                            gerar_vizinhanca_4, gerar_vizinhanca_5, gerar_vizinhanca_6,\n",
    "                            gerar_vizinhanca_7, gerar_vizinhanca_8, gerar_vizinhanca_9]\n",
    "    \n",
    "    while k < len(funcoes_vizinhanca):\n",
    "        vizinhos = funcoes_vizinhanca[k](solucao_atual)\n",
    "        aptidao_atual = calcular_aptidao_qap(solucao_atual, matriz_fluxo, matriz_distancia)\n",
    "        \n",
    "        for vizinho in vizinhos:\n",
    "            aptidao_vizinho = calcular_aptidao_qap(vizinho, matriz_fluxo, matriz_distancia)\n",
    "            if aptidao_vizinho < aptidao_atual:  \n",
    "                solucao_atual = vizinho\n",
    "                k = 0  \n",
    "                break\n",
    "        else:\n",
    "            k += 1  \n",
    "            \n",
    "    return solucao_atual"
   ]
  },
  {
   "cell_type": "code",
   "execution_count": 24,
   "id": "d46c9454",
   "metadata": {},
   "outputs": [
    {
     "data": {
      "text/plain": [
       "'\\ndef inicializar_populacao(lambd, solucao_inicial):\\n    return [mutacao(solucao_inicial) for _ in range(lambd)]\\n'"
      ]
     },
     "execution_count": 24,
     "metadata": {},
     "output_type": "execute_result"
    }
   ],
   "source": [
    "def inicializar_populacao(tamanho_pop, n):\n",
    "    return [random.sample(range(n), n) for _ in range(tamanho_pop)]\n",
    "\"\"\"\n",
    "def inicializar_populacao(lambd, solucao_inicial):\n",
    "    return [mutacao(solucao_inicial) for _ in range(lambd)]\n",
    "\"\"\""
   ]
  },
  {
   "cell_type": "markdown",
   "id": "6a11a0a2",
   "metadata": {},
   "source": [
    "# ES_VND"
   ]
  },
  {
   "cell_type": "code",
   "execution_count": 25,
   "id": "f529c7c4",
   "metadata": {},
   "outputs": [],
   "source": [
    "def ES_VND(mu, lambd, tempo_max, taxa_mutacao, taxa_busca_local, iter_sem_melhora_max,\n",
    "           solucao_inicial, matriz_fluxo, matriz_distancia):\n",
    "\n",
    "    P = inicializar_populacao(mu + lambd, len(solucao_inicial))\n",
    "    melhor = None\n",
    "    melhor_aptidao = float('-inf')  \n",
    "    sem_melhora = 0\n",
    "\n",
    "    inicio = time.time()\n",
    "\n",
    "    while (time.time() - inicio) < tempo_max and sem_melhora < iter_sem_melhora_max:\n",
    "        aptidoes = [calcular_aptidao_qap(sol, matriz_fluxo, matriz_distancia) for sol in P]\n",
    "\n",
    "        # Atualiza a melhor solução\n",
    "        for ind, apt in zip(P, aptidoes):\n",
    "            if apt > melhor_aptidao:\n",
    "                melhor_aptidao = apt\n",
    "                melhor = ind[:]\n",
    "                sem_melhora = 0\n",
    "        sem_melhora += 1\n",
    "\n",
    "        # Selecionar 2 * lambd pais por torneio\n",
    "        pais = []\n",
    "        for _ in range(2 * lambd):\n",
    "            indices = random.sample(range(len(P)), 3)\n",
    "            candidato = max(indices, key=lambda i: aptidoes[i])\n",
    "            pais.append(P[candidato])\n",
    "\n",
    "        # Gerar filhos\n",
    "        filhos = []\n",
    "        for i in range(0, 2 * lambd, 2):\n",
    "            pai1 = pais[i]\n",
    "            pai2 = pais[i+1]\n",
    "            filho = crossover(pai1, pai2)\n",
    "            if random.random() < taxa_mutacao:\n",
    "                filho = mutacao(filho)\n",
    "            if random.random() < taxa_busca_local:\n",
    "                filho = VND(filho, matriz_fluxo, matriz_distancia)\n",
    "            filhos.append(filho)\n",
    "\n",
    "        # Selecionar os mu melhores de P\n",
    "        melhores_indices = sorted(range(len(P)), key=lambda i: aptidoes[i], reverse=True)[:mu]\n",
    "        melhores = [P[i] for i in melhores_indices]\n",
    "\n",
    "        # Nova população: mu melhores + lambd filhos\n",
    "        P = melhores + filhos\n",
    "\n",
    "    return melhor, melhor_aptidao"
   ]
  },
  {
   "cell_type": "markdown",
   "id": "83e6d6d8",
   "metadata": {},
   "source": [
    "# Elistismo"
   ]
  },
  {
   "cell_type": "code",
   "execution_count": 26,
   "id": "0a3452e3",
   "metadata": {},
   "outputs": [],
   "source": [
    "def survivor_eliteism(populacao, aptidoes, mu):\n",
    "    indices_ordenados = np.argsort(aptidoes)[-mu:]  # pega os índices dos mu melhores\n",
    "    return [populacao[i] for i in indices_ordenados]\n",
    "\n",
    "def survivor_tournament_vectorized(populacao, aptidoes, mu, k=3):\n",
    "    selecionados = []\n",
    "    n = len(populacao)\n",
    "    for _ in range(mu):\n",
    "        candidatos_indices = np.random.choice(n, k, replace=False)\n",
    "        melhor_indice = candidatos_indices[np.argmax(np.array(aptidoes)[candidatos_indices])]\n",
    "        selecionados.append(populacao[melhor_indice])\n",
    "    return selecionados\n",
    "\n",
    "def best_or_lucky_survivor_vectorized(populacao, aptidoes, mu):\n",
    "    if random.random() < 0.5:\n",
    "        return survivor_eliteism(populacao, aptidoes, mu)\n",
    "    else:\n",
    "        indices_ordenados = np.argsort(aptidoes)\n",
    "        piores_indices = indices_ordenados[:len(populacao)-mu]\n",
    "        sobreviventes = [ind for i, ind in enumerate(populacao) if i not in piores_indices]\n",
    "        return sobreviventes"
   ]
  },
  {
   "cell_type": "markdown",
   "id": "d8f45a0b",
   "metadata": {},
   "source": [
    "# Funções principais"
   ]
  },
  {
   "cell_type": "code",
   "execution_count": 27,
   "id": "ad3c3430",
   "metadata": {},
   "outputs": [],
   "source": [
    "def ler_qap_com_n(caminho: str):\n",
    "    with open(caminho, \"r\") as f:\n",
    "        dados = list(map(int, f.read().split()))\n",
    "        \n",
    "    n = dados[0]\n",
    "    valores = dados[1:]  \n",
    "\n",
    "    total_esperado = 2 * n * n\n",
    "    if len(valores) != total_esperado:\n",
    "        raise ValueError(f\"Esperado {total_esperado} valores, mas encontrado {len(valores)}.\")\n",
    "\n",
    "    flow_flat = valores[:n * n]\n",
    "    dist_flat = valores[n * n:]\n",
    "\n",
    "    flow_df = pd.DataFrame([flow_flat[i * n:(i + 1) * n] for i in range(n)])\n",
    "    dist_df = pd.DataFrame([dist_flat[i * n:(i + 1) * n] for i in range(n)])\n",
    "\n",
    "    return n, flow_df, dist_df"
   ]
  },
  {
   "cell_type": "code",
   "execution_count": 28,
   "id": "d8deec6d",
   "metadata": {},
   "outputs": [
    {
     "name": "stdout",
     "output_type": "stream",
     "text": [
      "[Nug12] Seed 42 finalizada. Custo: -642 | Memória usada: 115.75 MB\n",
      "[Nug12] Seed 43 finalizada. Custo: -632 | Memória usada: 115.76 MB\n",
      "[Nug12] Seed 44 finalizada. Custo: -670 | Memória usada: 115.76 MB\n",
      "[Nug12] Seed 45 finalizada. Custo: -606 | Memória usada: 115.76 MB\n",
      "[Nug12] Seed 46 finalizada. Custo: -670 | Memória usada: 115.76 MB\n",
      "[Nug12] Seed 47 finalizada. Custo: -638 | Memória usada: 115.76 MB\n",
      "[Nug12] Seed 48 finalizada. Custo: -626 | Memória usada: 115.76 MB\n",
      "[Nug12] Seed 49 finalizada. Custo: -626 | Memória usada: 115.76 MB\n",
      "[Nug12] Seed 50 finalizada. Custo: -592 | Memória usada: 115.76 MB\n",
      "[Nug12] Seed 51 finalizada. Custo: -634 | Memória usada: 115.76 MB\n",
      "\n",
      "Resultados da instância Nug12 salvos em resultados_Nug12.csv\n"
     ]
    }
   ],
   "source": [
    "if __name__ == \"__main__\":\n",
    "    arquivos = glob.glob(\"*.txt\")\n",
    "\n",
    "    for arquivo in arquivos:\n",
    "        nome_instancia = os.path.splitext(os.path.basename(arquivo))[0]\n",
    "\n",
    "        n, flow_df, dist_df = ler_qap_com_n(arquivo)\n",
    "        flow = flow_df.values.tolist()\n",
    "        dist = dist_df.values.tolist()\n",
    "        matriz_fluxo = np.array(flow)\n",
    "        matriz_distancia = np.array(dist)\n",
    "\n",
    "        resultados = []  \n",
    "\n",
    "        for seed in range(42, 52):\n",
    "            random.seed(seed)\n",
    "\n",
    "            process = psutil.Process(os.getpid())\n",
    "            tempo_inicio = time.time()\n",
    "\n",
    "            solucao_inicial = gerar_array_replicavel(seed=seed, tamanho=n)\n",
    "\n",
    "            parametros = {\n",
    "                \"mu\": random.randint(5, 10),\n",
    "                \"lambd\": random.randint(30, 100),\n",
    "                \"tempo_max\": random.randint(3, 10) * 60,\n",
    "                \"taxa_mutacao\": random.uniform(0.4, 0.7),\n",
    "                \"taxa_busca_local\": random.uniform(0.4, 0.7),\n",
    "                \"iter_sem_melhora_max\": random.randint(5, 10),\n",
    "                \"solucao_inicial\": solucao_inicial,\n",
    "                \"matriz_fluxo\": matriz_fluxo,\n",
    "                \"matriz_distancia\": matriz_distancia\n",
    "            }\n",
    "\n",
    "            melhor_solucao, melhor_valor = ES_VND(**parametros)\n",
    "\n",
    "            tempo_fim = time.time()\n",
    "\n",
    "            try:\n",
    "                memoria_usada = process.memory_info().peak_wset / (1024 * 1024)  \n",
    "            except AttributeError:\n",
    "                memoria_usada = process.memory_info().rss / (1024 * 1024)  \n",
    "\n",
    "            resultados.append({\n",
    "                \"instancia\": nome_instancia,\n",
    "                \"seed\": seed,\n",
    "                \"melhor_solucao\": melhor_solucao,\n",
    "                \"custo\": melhor_valor,\n",
    "                \"tempo_execucao_segundos\": round(tempo_fim - tempo_inicio, 2),\n",
    "                \"memoria_usada_MB\": round(memoria_usada, 2)\n",
    "            })\n",
    "\n",
    "            print(f\"[{nome_instancia}] Seed {seed} finalizada. Custo: {melhor_valor} | Memória usada: {round(memoria_usada, 2)} MB\")\n",
    "\n",
    "        df_resultados = pd.DataFrame(resultados)\n",
    "        df_resultados.to_csv(f\"resultados_{nome_instancia}.csv\", index=False)\n",
    "\n",
    "        print(f\"\\nResultados da instância {nome_instancia} salvos em resultados_{nome_instancia}.csv\")\n"
   ]
  }
 ],
 "metadata": {
  "kernelspec": {
   "display_name": "Python 3",
   "language": "python",
   "name": "python3"
  },
  "language_info": {
   "codemirror_mode": {
    "name": "ipython",
    "version": 3
   },
   "file_extension": ".py",
   "mimetype": "text/x-python",
   "name": "python",
   "nbconvert_exporter": "python",
   "pygments_lexer": "ipython3",
   "version": "3.11.5"
  }
 },
 "nbformat": 4,
 "nbformat_minor": 5
}
